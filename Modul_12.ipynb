{
  "nbformat": 4,
  "nbformat_minor": 0,
  "metadata": {
    "colab": {
      "provenance": [],
      "mount_file_id": "1pjeqWHkVEWaGDfUDZEFz2IVbiKr6uTo1",
      "authorship_tag": "ABX9TyO1lcyPuUExWSev3Hi1mW+r",
      "include_colab_link": true
    },
    "kernelspec": {
      "name": "python3",
      "display_name": "Python 3"
    },
    "language_info": {
      "name": "python"
    }
  },
  "cells": [
    {
      "cell_type": "markdown",
      "metadata": {
        "id": "view-in-github",
        "colab_type": "text"
      },
      "source": [
        "<a href=\"https://colab.research.google.com/github/RIZKYANGKATA/MACHLEARN/blob/main/Modul_12.ipynb\" target=\"_parent\"><img src=\"https://colab.research.google.com/assets/colab-badge.svg\" alt=\"Open In Colab\"/></a>"
      ]
    },
    {
      "cell_type": "markdown",
      "source": [
        "*PRAKTIKUM 1*"
      ],
      "metadata": {
        "id": "F2nWAw_AnQ8q"
      }
    },
    {
      "cell_type": "code",
      "execution_count": 34,
      "metadata": {
        "colab": {
          "base_uri": "https://localhost:8080/"
        },
        "id": "Pu0Y5YctnH-P",
        "outputId": "08a3155b-2d88-421d-df8b-31c4e90ca06c"
      },
      "outputs": [
        {
          "output_type": "stream",
          "name": "stdout",
          "text": [
            "Requirement already satisfied: pytesseract in /usr/local/lib/python3.10/dist-packages (0.3.10)\n",
            "Requirement already satisfied: packaging>=21.3 in /usr/local/lib/python3.10/dist-packages (from pytesseract) (23.2)\n",
            "Requirement already satisfied: Pillow>=8.0.0 in /usr/local/lib/python3.10/dist-packages (from pytesseract) (9.4.0)\n"
          ]
        }
      ],
      "source": [
        "!pip install pytesseract"
      ]
    },
    {
      "cell_type": "code",
      "source": [
        "import re\n",
        "import cv2\n",
        "import numpy as np\n",
        "import pytesseract\n",
        "from pytesseract import Output\n",
        "from matplotlib import pyplot as plt"
      ],
      "metadata": {
        "id": "07Ltv6r_nl2q"
      },
      "execution_count": 35,
      "outputs": []
    },
    {
      "cell_type": "code",
      "source": [
        "IMG_DIR = '/content/drive/MyDrive/ML/P12/images-ocr/images'"
      ],
      "metadata": {
        "id": "yW-wMFDknqbw"
      },
      "execution_count": 36,
      "outputs": []
    },
    {
      "cell_type": "code",
      "source": [
        "# get grayscale image\n",
        "def get_grayscale(image):\n",
        "    return cv2.cvtColor(image, cv2.COLOR_BGR2GRAY)\n",
        "\n",
        "# noise removal\n",
        "def remove_noise(image):\n",
        "    return cv2.medianBlur(image,5)\n",
        "\n",
        "#thresholding\n",
        "def thresholding(image):\n",
        "    return cv2.threshold(image, 0, 255, cv2.THRESH_BINARY + cv2.THRESH_OTSU)[1]\n",
        "\n",
        "#dilation\n",
        "def dilate(image):\n",
        "    kernel = np.ones((5,5),np.uint8)\n",
        "    return cv2.dilate(image, kernel, iterations = 1)\n",
        "\n",
        "#erosion\n",
        "def erode(image):\n",
        "    kernel = np.ones((5,5),np.uint8)\n",
        "    return cv2.erode(image, kernel, iterations = 1)\n",
        "\n",
        "#opening - erosion followed by dilation\n",
        "def opening(image):\n",
        "    kernel = np.ones((5,5),np.uint8)\n",
        "    return cv2.morphologyEx(image, cv2.MORPH_OPEN, kernel)\n",
        "\n",
        "#canny edge detection\n",
        "def canny(image):\n",
        "    return cv2.Canny(image, 100, 200)\n",
        "\n",
        "#skew correction\n",
        "def deskew(image):\n",
        "    coords = np.column_stack(np.where(image > 0))\n",
        "    angle = cv2.minAreaRect(coords)[-1]\n",
        "    if angle < -45:\n",
        "        angle = -(90 + angle)\n",
        "    else:\n",
        "        angle = -angle\n",
        "    (h, w) = image.shape[:2]\n",
        "    center = (w // 2, h // 2)\n",
        "    M = cv2.getRotationMatrix2D(center, angle, 1.0)\n",
        "    rotated = cv2.warpAffine(image, M, (w, h), flags=cv2.INTER_CUBIC, borderMode=cv2.BORDER_REPLICATE)\n",
        "    return rotated\n",
        "\n",
        "#template matching\n",
        "def match_template(image, template):\n",
        "    return cv2.matchTemplate(image, template, cv2.TM_CCOEFF_NORMED)"
      ],
      "metadata": {
        "id": "VA5-cXSBnxGa"
      },
      "execution_count": 37,
      "outputs": []
    },
    {
      "cell_type": "code",
      "source": [
        "# Plot original image\n",
        "\n",
        "image = cv2.imread(IMG_DIR + 'aurebesh.jpg')\n",
        "b,g,r = cv2.split(image)\n",
        "rgb_img = cv2.merge([r,g,b])\n",
        "plt.imshow(rgb_img)\n",
        "plt.title('AUREBESH ORIGINAL IMAGE')\n",
        "plt.show()"
      ],
      "metadata": {
        "id": "9lKctWJanz9Z"
      },
      "execution_count": null,
      "outputs": []
    }
  ]
}