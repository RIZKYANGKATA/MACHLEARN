{
  "nbformat": 4,
  "nbformat_minor": 0,
  "metadata": {
    "colab": {
      "provenance": [],
      "authorship_tag": "ABX9TyOPIEmwUQQbEOuMS74OCmqb",
      "include_colab_link": true
    },
    "kernelspec": {
      "name": "python3",
      "display_name": "Python 3"
    },
    "language_info": {
      "name": "python"
    }
  },
  "cells": [
    {
      "cell_type": "markdown",
      "metadata": {
        "id": "view-in-github",
        "colab_type": "text"
      },
      "source": [
        "<a href=\"https://colab.research.google.com/github/RIZKYANGKATA/MACHLEARN/blob/main/Modul_10.ipynb\" target=\"_parent\"><img src=\"https://colab.research.google.com/assets/colab-badge.svg\" alt=\"Open In Colab\"/></a>"
      ]
    },
    {
      "cell_type": "markdown",
      "source": [
        "*PRAKTIKUM 1*"
      ],
      "metadata": {
        "id": "FpfRV2W8M37o"
      }
    },
    {
      "cell_type": "code",
      "execution_count": null,
      "metadata": {
        "id": "hKgIJHRiM0eE"
      },
      "outputs": [],
      "source": [
        "import numpy as np\n",
        "import tensorflow_datasets as tfds\n",
        "import tensorflow as tf\n",
        "\n",
        "tfds.disable_progress_bar()"
      ]
    },
    {
      "cell_type": "code",
      "source": [
        "import matplotlib.pyplot as plt\n",
        "\n",
        "def plot_graphs(history, metric):\n",
        "  plt.plot(history.history[metric])\n",
        "  plt.plot(history.history['val_'+metric], '')\n",
        "  plt.xlabel(\"Epochs\")\n",
        "  plt.ylabel(metric)\n",
        "  plt.legend([metric, 'val_'+metric])"
      ],
      "metadata": {
        "id": "8OL8-zoMrwb4"
      },
      "execution_count": null,
      "outputs": []
    },
    {
      "cell_type": "code",
      "source": [
        "dataset, info = tfds.load('imdb_reviews', with_info=True,\n",
        "                          as_supervised=True)\n",
        "train_dataset, test_dataset = dataset['train'], dataset['test']\n",
        "\n",
        "train_dataset.element_spec"
      ],
      "metadata": {
        "colab": {
          "base_uri": "https://localhost:8080/"
        },
        "id": "7WdD9dNlNICG",
        "outputId": "8405f455-f79f-49eb-cead-4f6cf2e05aef"
      },
      "execution_count": null,
      "outputs": [
        {
          "output_type": "stream",
          "name": "stdout",
          "text": [
            "Downloading and preparing dataset 80.23 MiB (download: 80.23 MiB, generated: Unknown size, total: 80.23 MiB) to /root/tensorflow_datasets/imdb_reviews/plain_text/1.0.0...\n",
            "Dataset imdb_reviews downloaded and prepared to /root/tensorflow_datasets/imdb_reviews/plain_text/1.0.0. Subsequent calls will reuse this data.\n"
          ]
        },
        {
          "output_type": "execute_result",
          "data": {
            "text/plain": [
              "(TensorSpec(shape=(), dtype=tf.string, name=None),\n",
              " TensorSpec(shape=(), dtype=tf.int64, name=None))"
            ]
          },
          "metadata": {},
          "execution_count": 2
        }
      ]
    },
    {
      "cell_type": "code",
      "source": [
        "for example, label in train_dataset.take(1):\n",
        "  print('text: ', example.numpy())\n",
        "  print('label: ', label.numpy())"
      ],
      "metadata": {
        "colab": {
          "base_uri": "https://localhost:8080/"
        },
        "id": "mZOw_U4ZNX4q",
        "outputId": "47517643-ca76-46b8-a56d-29efc02fc09a"
      },
      "execution_count": null,
      "outputs": [
        {
          "output_type": "stream",
          "name": "stdout",
          "text": [
            "text:  b\"This was an absolutely terrible movie. Don't be lured in by Christopher Walken or Michael Ironside. Both are great actors, but this must simply be their worst role in history. Even their great acting could not redeem this movie's ridiculous storyline. This movie is an early nineties US propaganda piece. The most pathetic scenes were those when the Columbian rebels were making their cases for revolutions. Maria Conchita Alonso appeared phony, and her pseudo-love affair with Walken was nothing but a pathetic emotional plug in a movie that was devoid of any real meaning. I am disappointed that there are movies like this, ruining actor's like Christopher Walken's good name. I could barely sit through it.\"\n",
            "label:  0\n"
          ]
        }
      ]
    },
    {
      "cell_type": "code",
      "source": [
        "BUFFER_SIZE = 10000\n",
        "BATCH_SIZE = 64\n",
        "\n",
        "train_dataset = train_dataset.shuffle(BUFFER_SIZE).batch(BATCH_SIZE).prefetch(tf.data.AUTOTUNE)\n",
        "test_dataset = test_dataset.batch(BATCH_SIZE).prefetch(tf.data.AUTOTUNE)\n",
        "\n",
        "for example, label in train_dataset.take(1):\n",
        "  print('texts: ', example.numpy()[:3])\n",
        "  print()\n",
        "  print('labels: ', label.numpy()[:3])\n"
      ],
      "metadata": {
        "colab": {
          "base_uri": "https://localhost:8080/"
        },
        "id": "K0pRVZfPNcPJ",
        "outputId": "a5ce0f0d-3297-4128-b189-f670ac89d94b"
      },
      "execution_count": null,
      "outputs": [
        {
          "output_type": "stream",
          "name": "stdout",
          "text": [
            "texts:  [b'This is John Waters best film to date. The characters are obvious and symbolic, just as in his other films. So there are no surprises or character changes. I enjoyed the film because of the wittiness and pace of the story. It was good story-telling with honest people.'\n",
            " b\"PROM NIGHT (2008)<br /><br />directed by: Nelson McCormick<br /><br />starring: Brittany Snow, Scott Porter, Jessica Stroup, and Dana Davis<br /><br />plot: Three years ago, Donna (Brittany Snow) witnessed the death of her entire family at the hands of her teacher (Jonathan Schaech) who has a bit of a crush on her. Now, she is preparing for her senior prom with her stupid annoying friends. Once there, they start dying one by one because the killer escaped from prison and no one bothered to warn Donna because apparently her prom is too important to interrupt. <br /><br />pros: I got a few good laughs out of the film due to the terrible dialog and the dumb character moves.<br /><br />An example:<br /><br />Everyone decides not to tell Donna that the man who is oddly obsessed with her (she doesn't seem that great) has escaped from prison. Their reason: They don't want to embarrass her in front of all her friends. LOL<br /><br />cons: Let me start off by saying I'm a huge slasher fan. Usually I can have fun with even the bad ones. I even like some PG-13 horror films. TOURIST TRAP (1979), one of my favorites, was originally rated PG. I also enjoy POLTERGEIST (1982) and THE GRUDGE (2004). So the fact that this is a dumb slasher film that is rated PG-13 does not have anything to do with me not enjoying the movie.<br /><br />First of all, I had a big problem with the story. I like slasher films that don't even have stories. At least they can be entertaining. This is about a teacher who falls in love with his student, so he kills her entire family. A few years later, he tries to make it up to her by ruining her prom and killing all of her friends ...? Then there were subplots that I doubt anyone cared about. Claire (Jessica Stroup) is fighting with her boyfriend, she has cramps, and I couldn't care less. This should have been a Lifetime feature, not a remake of PROM NIGHT. <br /><br />And then ... this is a slasher film with terrible death scenes. I don't even care that it's not that gory, some of my favorite slashers (HALLOWEEN, CURTAINS, the original PROM NIGHT) were not that gory but they still had effective murders. Here, we have half the characters dying in the same hotel room off screen, a woman being stabbed several times with no stab wounds, and a closeup on a bad actor's face as he screams in agony. I'm sure that 10 year-old girls were terrified, but not me.<br /><br />I also hated the characters. There was Donna's unrealistically sensitive boyfriend Bobby (Scott Porter) and I can almost guarantee you will never meet a boyfriend that sensitive in your life, unless you are a gay male. Then we had Donna's annoying friends Claire (Stroup) and Lisa (Dana Davis), and the token mean girl Chrissy (Brianne Davis). If you thought the characters in DEATH PROOF were annoying, try watching this movie. And don't get me started on Ronnie (Collins Pennie) and the DJ (Jay Phillips) who gave me flashbacks to Usher's performance in SHE'S ALL THAT.<br /><br />Add to all that predictable plot turns, a terrible soundtrack and a big lack of respect to the original material, and you have quite a stinker.\"\n",
            " b'I picked up the movie with no cover and not even knowing what it was, but when I watched it I laughed so hard. It is now one of my favorite movies of all time. Rusty and the guys created a masterpiece I would highly recommend this movie to any one with a sense of humor. Thank You Rusty for giving us something to laugh at.']\n",
            "\n",
            "labels:  [1 0 1]\n"
          ]
        }
      ]
    },
    {
      "cell_type": "code",
      "source": [
        "VOCAB_SIZE = 1000\n",
        "encoder = tf.keras.layers.TextVectorization(\n",
        "    max_tokens=VOCAB_SIZE)\n",
        "encoder.adapt(train_dataset.map(lambda text, label: text))"
      ],
      "metadata": {
        "id": "0UobIsipNfXH"
      },
      "execution_count": null,
      "outputs": []
    },
    {
      "cell_type": "code",
      "source": [
        "vocab = np.array(encoder.get_vocabulary())\n",
        "vocab[:20]"
      ],
      "metadata": {
        "colab": {
          "base_uri": "https://localhost:8080/"
        },
        "id": "8t0VhugeNmjQ",
        "outputId": "60e88148-be28-40f3-ccbe-2aec1431fb7e"
      },
      "execution_count": null,
      "outputs": [
        {
          "output_type": "execute_result",
          "data": {
            "text/plain": [
              "array(['', '[UNK]', 'the', 'and', 'a', 'of', 'to', 'is', 'in', 'it', 'i',\n",
              "       'this', 'that', 'br', 'was', 'as', 'for', 'with', 'movie', 'but'],\n",
              "      dtype='<U14')"
            ]
          },
          "metadata": {},
          "execution_count": 7
        }
      ]
    },
    {
      "cell_type": "code",
      "source": [
        "encoded_example = encoder(example)[:3].numpy()\n",
        "encoded_example"
      ],
      "metadata": {
        "colab": {
          "base_uri": "https://localhost:8080/"
        },
        "id": "9bCP2n-cNuIw",
        "outputId": "1c3e13e9-5929-42b8-d53d-e705c355610a"
      },
      "execution_count": null,
      "outputs": [
        {
          "output_type": "execute_result",
          "data": {
            "text/plain": [
              "array([[ 11,   7, 298, ...,   0,   0,   0],\n",
              "       [  1, 311,   1, ...,   0,   0,   0],\n",
              "       [ 10,   1,  58, ...,   0,   0,   0]])"
            ]
          },
          "metadata": {},
          "execution_count": 8
        }
      ]
    },
    {
      "cell_type": "code",
      "source": [
        "for n in range(3):\n",
        "  print(\"Original: \", example[n].numpy())\n",
        "  print(\"Round-trip: \", \" \".join(vocab[encoded_example[n]]))\n",
        "  print()"
      ],
      "metadata": {
        "colab": {
          "base_uri": "https://localhost:8080/"
        },
        "id": "WG87VYTmOWnI",
        "outputId": "91961284-7c0b-4263-b6a7-948af731382e"
      },
      "execution_count": null,
      "outputs": [
        {
          "output_type": "stream",
          "name": "stdout",
          "text": [
            "Original:  b'This is John Waters best film to date. The characters are obvious and symbolic, just as in his other films. So there are no surprises or character changes. I enjoyed the film because of the wittiness and pace of the story. It was good story-telling with honest people.'\n",
            "Round-trip:  this is john [UNK] best film to [UNK] the characters are obvious and [UNK] just as in his other films so there are no [UNK] or character [UNK] i enjoyed the film because of the [UNK] and [UNK] of the story it was good [UNK] with [UNK] people                                                                                                                                                                                                                                                                                                                                                                                                                                                                                                                                                                                                                                                                                                                                                                                                                                                                                                                                  \n",
            "\n",
            "Original:  b\"PROM NIGHT (2008)<br /><br />directed by: Nelson McCormick<br /><br />starring: Brittany Snow, Scott Porter, Jessica Stroup, and Dana Davis<br /><br />plot: Three years ago, Donna (Brittany Snow) witnessed the death of her entire family at the hands of her teacher (Jonathan Schaech) who has a bit of a crush on her. Now, she is preparing for her senior prom with her stupid annoying friends. Once there, they start dying one by one because the killer escaped from prison and no one bothered to warn Donna because apparently her prom is too important to interrupt. <br /><br />pros: I got a few good laughs out of the film due to the terrible dialog and the dumb character moves.<br /><br />An example:<br /><br />Everyone decides not to tell Donna that the man who is oddly obsessed with her (she doesn't seem that great) has escaped from prison. Their reason: They don't want to embarrass her in front of all her friends. LOL<br /><br />cons: Let me start off by saying I'm a huge slasher fan. Usually I can have fun with even the bad ones. I even like some PG-13 horror films. TOURIST TRAP (1979), one of my favorites, was originally rated PG. I also enjoy POLTERGEIST (1982) and THE GRUDGE (2004). So the fact that this is a dumb slasher film that is rated PG-13 does not have anything to do with me not enjoying the movie.<br /><br />First of all, I had a big problem with the story. I like slasher films that don't even have stories. At least they can be entertaining. This is about a teacher who falls in love with his student, so he kills her entire family. A few years later, he tries to make it up to her by ruining her prom and killing all of her friends ...? Then there were subplots that I doubt anyone cared about. Claire (Jessica Stroup) is fighting with her boyfriend, she has cramps, and I couldn't care less. This should have been a Lifetime feature, not a remake of PROM NIGHT. <br /><br />And then ... this is a slasher film with terrible death scenes. I don't even care that it's not that gory, some of my favorite slashers (HALLOWEEN, CURTAINS, the original PROM NIGHT) were not that gory but they still had effective murders. Here, we have half the characters dying in the same hotel room off screen, a woman being stabbed several times with no stab wounds, and a closeup on a bad actor's face as he screams in agony. I'm sure that 10 year-old girls were terrified, but not me.<br /><br />I also hated the characters. There was Donna's unrealistically sensitive boyfriend Bobby (Scott Porter) and I can almost guarantee you will never meet a boyfriend that sensitive in your life, unless you are a gay male. Then we had Donna's annoying friends Claire (Stroup) and Lisa (Dana Davis), and the token mean girl Chrissy (Brianne Davis). If you thought the characters in DEATH PROOF were annoying, try watching this movie. And don't get me started on Ronnie (Collins Pennie) and the DJ (Jay Phillips) who gave me flashbacks to Usher's performance in SHE'S ALL THAT.<br /><br />Add to all that predictable plot turns, a terrible soundtrack and a big lack of respect to the original material, and you have quite a stinker.\"\n",
            "Round-trip:  [UNK] night [UNK] br directed by [UNK] [UNK] br [UNK] [UNK] [UNK] [UNK] [UNK] [UNK] [UNK] and [UNK] [UNK] br plot three years ago [UNK] [UNK] [UNK] [UNK] the death of her entire family at the hands of her [UNK] [UNK] [UNK] who has a bit of a [UNK] on her now she is [UNK] for her [UNK] [UNK] with her stupid annoying friends once there they start [UNK] one by one because the killer [UNK] from [UNK] and no one [UNK] to [UNK] [UNK] because apparently her [UNK] is too important to [UNK] br br [UNK] i got a few good laughs out of the film due to the terrible dialog and the dumb character [UNK] br an [UNK] br everyone [UNK] not to tell [UNK] that the man who is [UNK] [UNK] with her she doesnt seem that great has [UNK] from [UNK] their reason they dont want to [UNK] her in [UNK] of all her friends [UNK] br [UNK] let me start off by saying im a huge [UNK] fan usually i can have fun with even the bad ones i even like some [UNK] horror films [UNK] [UNK] [UNK] one of my [UNK] was [UNK] [UNK] [UNK] i also enjoy [UNK] [UNK] and the [UNK] [UNK] so the fact that this is a dumb [UNK] film that is [UNK] [UNK] does not have anything to do with me not [UNK] the moviebr br first of all i had a big problem with the story i like [UNK] films that dont even have stories at least they can be entertaining this is about a [UNK] who falls in love with his [UNK] so he [UNK] her entire family a few years later he tries to make it up to her by [UNK] her [UNK] and killing all of her friends then there were [UNK] that i doubt anyone [UNK] about [UNK] [UNK] [UNK] is fighting with her [UNK] she has [UNK] and i couldnt care less this should have been a [UNK] feature not a remake of [UNK] night br br and then this is a [UNK] film with terrible death scenes i dont even care that its not that [UNK] some of my favorite [UNK] [UNK] [UNK] the original [UNK] night were not that [UNK] but they still had [UNK] [UNK] here we have half the characters [UNK] in the same [UNK] room off screen a woman being [UNK] several times with no [UNK] [UNK] and a [UNK] on a bad actors face as he [UNK] in [UNK] im sure that 10 [UNK] girls were [UNK] but not [UNK] br i also [UNK] the characters there was [UNK] [UNK] [UNK] [UNK] [UNK] [UNK] [UNK] and i can almost [UNK] you will never meet a [UNK] that [UNK] in your life unless you are a [UNK] male then we had [UNK] annoying friends [UNK] [UNK] and [UNK] [UNK] [UNK] and the [UNK] mean girl [UNK] [UNK] [UNK] if you thought the characters in death [UNK] were annoying try watching this movie and dont get me started on [UNK] [UNK] [UNK] and the [UNK] [UNK] [UNK] who gave me [UNK] to [UNK] performance in shes all [UNK] br add to all that predictable plot turns a terrible soundtrack and a big lack of [UNK] to the original material and you have quite a [UNK]                                                                                                                                                                                                                                                                                                                                                                                                      \n",
            "\n",
            "Original:  b'I picked up the movie with no cover and not even knowing what it was, but when I watched it I laughed so hard. It is now one of my favorite movies of all time. Rusty and the guys created a masterpiece I would highly recommend this movie to any one with a sense of humor. Thank You Rusty for giving us something to laugh at.'\n",
            "Round-trip:  i [UNK] up the movie with no [UNK] and not even [UNK] what it was but when i watched it i [UNK] so hard it is now one of my favorite movies of all time [UNK] and the guys [UNK] a [UNK] i would highly recommend this movie to any one with a sense of humor [UNK] you [UNK] for giving us something to laugh at                                                                                                                                                                                                                                                                                                                                                                                                                                                                                                                                                                                                                                                                                                                                                                                                                                                                                                                \n",
            "\n"
          ]
        }
      ]
    },
    {
      "cell_type": "code",
      "source": [
        "model = tf.keras.Sequential([\n",
        "    encoder,\n",
        "    tf.keras.layers.Embedding(\n",
        "        input_dim=len(encoder.get_vocabulary()),\n",
        "        output_dim=64,\n",
        "        # Use masking to handle the variable sequence lengths\n",
        "        mask_zero=True),\n",
        "    tf.keras.layers.Bidirectional(tf.keras.layers.LSTM(64)),\n",
        "    tf.keras.layers.Dense(64, activation='relu'),\n",
        "    tf.keras.layers.Dense(1)\n",
        "])"
      ],
      "metadata": {
        "id": "MEK8Z7UhOYhQ"
      },
      "execution_count": null,
      "outputs": []
    },
    {
      "cell_type": "code",
      "source": [
        "print([layer.supports_masking for layer in model.layers])"
      ],
      "metadata": {
        "colab": {
          "base_uri": "https://localhost:8080/"
        },
        "id": "Bb9LporTOfFK",
        "outputId": "c5775c9b-65db-42e6-f697-644f6d19d2ff"
      },
      "execution_count": null,
      "outputs": [
        {
          "output_type": "stream",
          "name": "stdout",
          "text": [
            "[False, True, True, True, True]\n"
          ]
        }
      ]
    },
    {
      "cell_type": "code",
      "source": [
        "# predict on a sample text without padding.\n",
        "\n",
        "sample_text = ('The movie was cool. The animation and the graphics '\n",
        "               'were out of this world. I would recommend this movie.')\n",
        "predictions = model.predict(np.array([sample_text]))\n",
        "print(predictions[0])"
      ],
      "metadata": {
        "colab": {
          "base_uri": "https://localhost:8080/"
        },
        "id": "5Poxdf-cOkPg",
        "outputId": "1eb3997f-80fa-41db-832e-0f6aa070b238"
      },
      "execution_count": null,
      "outputs": [
        {
          "output_type": "stream",
          "name": "stdout",
          "text": [
            "1/1 [==============================] - 3s 3s/step\n",
            "[-0.00321618]\n"
          ]
        }
      ]
    },
    {
      "cell_type": "code",
      "source": [
        "# predict on a sample text with padding\n",
        "\n",
        "padding = \"the \" * 2000\n",
        "predictions = model.predict(np.array([sample_text, padding]))\n",
        "print(predictions[0])"
      ],
      "metadata": {
        "colab": {
          "base_uri": "https://localhost:8080/"
        },
        "id": "W5xQAz4IOmjK",
        "outputId": "7c964621-ed24-49ee-ed9c-63c6a0d4bccb"
      },
      "execution_count": null,
      "outputs": [
        {
          "output_type": "stream",
          "name": "stdout",
          "text": [
            "1/1 [==============================] - 0s 347ms/step\n",
            "[-0.00321618]\n"
          ]
        }
      ]
    },
    {
      "cell_type": "code",
      "source": [
        "model.compile(loss=tf.keras.losses.BinaryCrossentropy(from_logits=True),\n",
        "              optimizer=tf.keras.optimizers.Adam(1e-4),\n",
        "              metrics=['accuracy'])"
      ],
      "metadata": {
        "id": "UlpK94EyOqHn"
      },
      "execution_count": null,
      "outputs": []
    },
    {
      "cell_type": "code",
      "source": [
        "history = model.fit(train_dataset, epochs=10,\n",
        "                    validation_data=test_dataset,\n",
        "                    validation_steps=30)"
      ],
      "metadata": {
        "colab": {
          "base_uri": "https://localhost:8080/"
        },
        "id": "YIw1B2d2Ot-C",
        "outputId": "ceffb72f-d046-418e-e931-903edd28969d"
      },
      "execution_count": null,
      "outputs": [
        {
          "output_type": "stream",
          "name": "stdout",
          "text": [
            "Epoch 1/10\n",
            "391/391 [==============================] - 724s 2s/step - loss: 0.6325 - accuracy: 0.5776 - val_loss: 0.4705 - val_accuracy: 0.7437\n",
            "Epoch 2/10\n",
            "391/391 [==============================] - 702s 2s/step - loss: 0.3864 - accuracy: 0.8244 - val_loss: 0.3652 - val_accuracy: 0.8464\n",
            "Epoch 3/10\n",
            "391/391 [==============================] - 689s 2s/step - loss: 0.3349 - accuracy: 0.8526 - val_loss: 0.3367 - val_accuracy: 0.8547\n",
            "Epoch 4/10\n",
            "391/391 [==============================] - 698s 2s/step - loss: 0.3189 - accuracy: 0.8620 - val_loss: 0.3290 - val_accuracy: 0.8573\n",
            "Epoch 5/10\n",
            "391/391 [==============================] - 710s 2s/step - loss: 0.3133 - accuracy: 0.8664 - val_loss: 0.3288 - val_accuracy: 0.8562\n",
            "Epoch 6/10\n",
            "391/391 [==============================] - 709s 2s/step - loss: 0.3094 - accuracy: 0.8654 - val_loss: 0.3254 - val_accuracy: 0.8568\n",
            "Epoch 7/10\n",
            "391/391 [==============================] - 720s 2s/step - loss: 0.3046 - accuracy: 0.8691 - val_loss: 0.3211 - val_accuracy: 0.8583\n",
            "Epoch 8/10\n",
            "391/391 [==============================] - 723s 2s/step - loss: 0.3043 - accuracy: 0.8704 - val_loss: 0.3216 - val_accuracy: 0.8547\n",
            "Epoch 9/10\n",
            "391/391 [==============================] - 702s 2s/step - loss: 0.3008 - accuracy: 0.8705 - val_loss: 0.3291 - val_accuracy: 0.8578\n",
            "Epoch 10/10\n",
            "391/391 [==============================] - 707s 2s/step - loss: 0.2982 - accuracy: 0.8718 - val_loss: 0.3283 - val_accuracy: 0.8562\n"
          ]
        }
      ]
    },
    {
      "cell_type": "code",
      "source": [
        "test_loss, test_acc = model.evaluate(test_dataset)\n",
        "\n",
        "print('Test Loss:', test_loss)\n",
        "print('Test Accuracy:', test_acc)"
      ],
      "metadata": {
        "colab": {
          "base_uri": "https://localhost:8080/"
        },
        "id": "BSOg7jxrb7wk",
        "outputId": "111a9c1d-303c-42e9-844d-d5dd08d58101"
      },
      "execution_count": null,
      "outputs": [
        {
          "output_type": "stream",
          "name": "stdout",
          "text": [
            "391/391 [==============================] - 161s 413ms/step - loss: 0.3246 - accuracy: 0.8626\n",
            "Test Loss: 0.32456159591674805\n",
            "Test Accuracy: 0.862559974193573\n"
          ]
        }
      ]
    },
    {
      "cell_type": "code",
      "source": [
        "plt.figure(figsize=(16, 8))\n",
        "plt.subplot(1, 2, 1)\n",
        "plot_graphs(history, 'accuracy')\n",
        "plt.ylim(None, 1)\n",
        "plt.subplot(1, 2, 2)\n",
        "plot_graphs(history, 'loss')\n",
        "plt.ylim(0, None)"
      ],
      "metadata": {
        "colab": {
          "base_uri": "https://localhost:8080/",
          "height": 641
        },
        "id": "izYztxArrDbf",
        "outputId": "cc17e92f-a456-421a-c062-1099d9c937ba"
      },
      "execution_count": null,
      "outputs": [
        {
          "output_type": "execute_result",
          "data": {
            "text/plain": [
              "(0.0, 0.64919004291296)"
            ]
          },
          "metadata": {},
          "execution_count": 24
        },
        {
          "output_type": "display_data",
          "data": {
            "text/plain": [
              "<Figure size 1600x800 with 2 Axes>"
            ],
            "image/png": "[encoded data removed]"
          },
          "metadata": {}
        }
      ]
    },
    {
      "cell_type": "code",
      "source": [
        "sample_text = ('The movie was cool. The animation and the graphics '\n",
        "              'were out of this world. I would recommend this movie.')\n",
        "predictions = model.predict(np.array([sample_text]))"
      ],
      "metadata": {
        "colab": {
          "base_uri": "https://localhost:8080/"
        },
        "id": "TQScMjRHsJno",
        "outputId": "83e915ec-2de5-49d4-9b6d-20bfebce5341"
      },
      "execution_count": null,
      "outputs": [
        {
          "output_type": "stream",
          "name": "stdout",
          "text": [
            "1/1 [==============================] - 4s 4s/step\n"
          ]
        }
      ]
    },
    {
      "cell_type": "code",
      "source": [
        "model = tf.keras.Sequential([\n",
        "    encoder,\n",
        "    tf.keras.layers.Embedding(len(encoder.get_vocabulary()), 64, mask_zero=True),\n",
        "    tf.keras.layers.Bidirectional(tf.keras.layers.LSTM(64, return_sequences=True)),\n",
        "    tf.keras.layers.Bidirectional(tf.keras.layers.LSTM(32)),\n",
        "    tf.keras.layers.Dense(64, activation='relu'),\n",
        "    tf.keras.layers.Dropout(0.5),\n",
        "    tf.keras.layers.Dense(1)\n",
        "])"
      ],
      "metadata": {
        "id": "-BYS7nGmsagN"
      },
      "execution_count": null,
      "outputs": []
    },
    {
      "cell_type": "code",
      "source": [
        "model.compile(loss=tf.keras.losses.BinaryCrossentropy(from_logits=True),\n",
        "              optimizer=tf.keras.optimizers.Adam(1e-4),\n",
        "              metrics=['accuracy'])"
      ],
      "metadata": {
        "id": "Vpxq18jlsjBp"
      },
      "execution_count": null,
      "outputs": []
    },
    {
      "cell_type": "code",
      "source": [
        "history = model.fit(train_dataset, epochs=10,\n",
        "                    validation_data=test_dataset,\n",
        "                    validation_steps=30)"
      ],
      "metadata": {
        "colab": {
          "base_uri": "https://localhost:8080/"
        },
        "id": "snSW3Ivysn0R",
        "outputId": "3193f392-94b5-4f7b-8092-81dfef9069e6"
      },
      "execution_count": null,
      "outputs": [
        {
          "output_type": "stream",
          "name": "stdout",
          "text": [
            "Epoch 1/10\n",
            "391/391 [==============================] - 1417s 4s/step - loss: 0.6159 - accuracy: 0.6096 - val_loss: 0.4366 - val_accuracy: 0.8193\n",
            "Epoch 2/10\n",
            "391/391 [==============================] - 1366s 3s/step - loss: 0.3950 - accuracy: 0.8283 - val_loss: 0.3641 - val_accuracy: 0.8380\n",
            "Epoch 3/10\n",
            "391/391 [==============================] - 1372s 4s/step - loss: 0.3405 - accuracy: 0.8535 - val_loss: 0.3330 - val_accuracy: 0.8500\n",
            "Epoch 4/10\n",
            "391/391 [==============================] - 1331s 3s/step - loss: 0.3203 - accuracy: 0.8641 - val_loss: 0.3384 - val_accuracy: 0.8385\n",
            "Epoch 5/10\n",
            "391/391 [==============================] - 1320s 3s/step - loss: 0.3119 - accuracy: 0.8676 - val_loss: 0.3318 - val_accuracy: 0.8615\n",
            "Epoch 6/10\n",
            "391/391 [==============================] - 1305s 3s/step - loss: 0.3085 - accuracy: 0.8688 - val_loss: 0.3277 - val_accuracy: 0.8583\n",
            "Epoch 7/10\n",
            "391/391 [==============================] - 1306s 3s/step - loss: 0.3013 - accuracy: 0.8726 - val_loss: 0.3236 - val_accuracy: 0.8490\n",
            "Epoch 8/10\n",
            "391/391 [==============================] - 1301s 3s/step - loss: 0.3034 - accuracy: 0.8691 - val_loss: 0.3241 - val_accuracy: 0.8599\n",
            "Epoch 9/10\n",
            "391/391 [==============================] - 1315s 3s/step - loss: 0.2974 - accuracy: 0.8728 - val_loss: 0.3220 - val_accuracy: 0.8667\n",
            "Epoch 10/10\n",
            "391/391 [==============================] - 1331s 3s/step - loss: 0.2960 - accuracy: 0.8754 - val_loss: 0.3222 - val_accuracy: 0.8547\n"
          ]
        }
      ]
    },
    {
      "cell_type": "code",
      "source": [
        "test_loss, test_acc = model.evaluate(test_dataset)\n",
        "\n",
        "print('Test Loss:', test_loss)\n",
        "print('Test Accuracy:', test_acc)"
      ],
      "metadata": {
        "colab": {
          "base_uri": "https://localhost:8080/"
        },
        "id": "_PvgLTwMglCM",
        "outputId": "a7537b6f-2d04-4ae8-cbd0-123f65a21d3e"
      },
      "execution_count": null,
      "outputs": [
        {
          "output_type": "stream",
          "name": "stdout",
          "text": [
            "391/391 [==============================] - 299s 764ms/step - loss: 0.3183 - accuracy: 0.8520\n",
            "Test Loss: 0.3182699680328369\n",
            "Test Accuracy: 0.8519600033760071\n"
          ]
        }
      ]
    },
    {
      "cell_type": "code",
      "source": [
        "# predict on a sample text without padding.\n",
        "\n",
        "sample_text = ('The movie was not good. The animation and the graphics '\n",
        "              'were terrible. I would not recommend this movie.')\n",
        "predictions = model.predict(np.array([sample_text]))\n",
        "print(predictions)"
      ],
      "metadata": {
        "colab": {
          "base_uri": "https://localhost:8080/"
        },
        "id": "LrUcc3YQh28K",
        "outputId": "ed60e702-f768-4c70-ae63-8eea59e30c7c"
      },
      "execution_count": null,
      "outputs": [
        {
          "output_type": "stream",
          "name": "stdout",
          "text": [
            "1/1 [==============================] - 9s 9s/step\n",
            "[[-1.6177932]]\n"
          ]
        }
      ]
    },
    {
      "cell_type": "code",
      "source": [
        "plt.figure(figsize=(16, 6))\n",
        "plt.subplot(1, 2, 1)\n",
        "plot_graphs(history, 'accuracy')\n",
        "plt.subplot(1, 2, 2)\n",
        "plot_graphs(history, 'loss')"
      ],
      "metadata": {
        "colab": {
          "base_uri": "https://localhost:8080/",
          "height": 482
        },
        "id": "FuouvX51h99M",
        "outputId": "2a634c6d-c8f1-4fad-978e-5fecc0016137"
      },
      "execution_count": null,
      "outputs": [
        {
          "output_type": "display_data",
          "data": {
            "text/plain": [
              "<Figure size 1600x600 with 2 Axes>"
            ],
            "image/png": "[encoded data removed]"
          },
          "metadata": {}
        }
      ]
    },
    {
      "cell_type": "markdown",
      "source": [
        "*PRAKTIKUM 2*"
      ],
      "metadata": {
        "id": "s53w7p_ciN_3"
      }
    },
    {
      "cell_type": "code",
      "source": [
        "import tensorflow as tf\n",
        "import numpy as np\n",
        "import os\n",
        "import time"
      ],
      "metadata": {
        "id": "1fUFt13hiR3m"
      },
      "execution_count": 1,
      "outputs": []
    },
    {
      "cell_type": "code",
      "source": [
        "path_to_file = tf.keras.utils.get_file('shakespeare.txt', 'https://storage.googleapis.com/download.tensorflow.org/data/shakespeare.txt')"
      ],
      "metadata": {
        "id": "XEAJGIl_WAfV",
        "outputId": "21088d79-e052-47cb-fe5e-2652d0bc5025",
        "colab": {
          "base_uri": "https://localhost:8080/"
        }
      },
      "execution_count": 2,
      "outputs": [
        {
          "output_type": "stream",
          "name": "stdout",
          "text": [
            "Downloading data from https://storage.googleapis.com/download.tensorflow.org/data/shakespeare.txt\n",
            "1115394/1115394 [==============================] - 0s 0us/step\n"
          ]
        }
      ]
    },
    {
      "cell_type": "code",
      "source": [
        "# Read, then decode for py2 compat.\n",
        "text = open(path_to_file, 'rb').read().decode(encoding='utf-8')\n",
        "# length of text is the number of characters in it\n",
        "print(f'Length of text: {len(text)} characters')"
      ],
      "metadata": {
        "id": "nvKOwtn3Wp9Z",
        "outputId": "bb12df33-86f7-406a-f9eb-8cb9b5730960",
        "colab": {
          "base_uri": "https://localhost:8080/"
        }
      },
      "execution_count": 3,
      "outputs": [
        {
          "output_type": "stream",
          "name": "stdout",
          "text": [
            "Length of text: 1115394 characters\n"
          ]
        }
      ]
    },
    {
      "cell_type": "code",
      "source": [
        "# The unique characters in the file\n",
        "vocab = sorted(set(text))\n",
        "print(f'{len(vocab)} unique characters')"
      ],
      "metadata": {
        "id": "sh0CleVIX6Ub",
        "outputId": "c2b6abe9-38fa-466e-ac07-f21bd58e8a10",
        "colab": {
          "base_uri": "https://localhost:8080/"
        }
      },
      "execution_count": 4,
      "outputs": [
        {
          "output_type": "stream",
          "name": "stdout",
          "text": [
            "65 unique characters\n"
          ]
        }
      ]
    },
    {
      "cell_type": "code",
      "source": [
        "example_texts = ['abcdefg', 'xyz']\n",
        "chars = tf.strings.unicode_split(example_texts, input_encoding='UTF-8')\n",
        "chars"
      ],
      "metadata": {
        "id": "x2bKB4UKX9Eh",
        "outputId": "c9c2da53-db87-43fe-e20e-23200de06622",
        "colab": {
          "base_uri": "https://localhost:8080/"
        }
      },
      "execution_count": 5,
      "outputs": [
        {
          "output_type": "execute_result",
          "data": {
            "text/plain": [
              "<tf.RaggedTensor [[b'a', b'b', b'c', b'd', b'e', b'f', b'g'], [b'x', b'y', b'z']]>"
            ]
          },
          "metadata": {},
          "execution_count": 5
        }
      ]
    },
    {
      "cell_type": "code",
      "source": [
        "ids_from_chars = tf.keras.layers.StringLookup(\n",
        "vocabulary=list(vocab), mask_token=None)"
      ],
      "metadata": {
        "id": "huyOIsEQYCjI"
      },
      "execution_count": 6,
      "outputs": []
    },
    {
      "cell_type": "code",
      "source": [
        "ids = ids_from_chars(chars)\n",
        "ids"
      ],
      "metadata": {
        "id": "4qnFfk8KYGQ9",
        "outputId": "4d518133-f13b-441e-d083-870f9ba04c54",
        "colab": {
          "base_uri": "https://localhost:8080/"
        }
      },
      "execution_count": 7,
      "outputs": [
        {
          "output_type": "execute_result",
          "data": {
            "text/plain": [
              "<tf.RaggedTensor [[40, 41, 42, 43, 44, 45, 46], [63, 64, 65]]>"
            ]
          },
          "metadata": {},
          "execution_count": 7
        }
      ]
    },
    {
      "cell_type": "code",
      "source": [
        "chars_from_ids = tf.keras.layers.StringLookup(\n",
        "    vocabulary=ids_from_chars.get_vocabulary(), invert=True, mask_token=None)"
      ],
      "metadata": {
        "id": "mHODb3oOYLs_"
      },
      "execution_count": 8,
      "outputs": []
    },
    {
      "cell_type": "code",
      "source": [
        "chars = chars_from_ids(ids)\n",
        "chars"
      ],
      "metadata": {
        "id": "P66okHhPYNNv",
        "outputId": "8b6ad998-b81d-4004-d4d6-e81173b1cd61",
        "colab": {
          "base_uri": "https://localhost:8080/"
        }
      },
      "execution_count": 9,
      "outputs": [
        {
          "output_type": "execute_result",
          "data": {
            "text/plain": [
              "<tf.RaggedTensor [[b'a', b'b', b'c', b'd', b'e', b'f', b'g'], [b'x', b'y', b'z']]>"
            ]
          },
          "metadata": {},
          "execution_count": 9
        }
      ]
    },
    {
      "cell_type": "code",
      "source": [
        "tf.strings.reduce_join(chars, axis=-1).numpy()"
      ],
      "metadata": {
        "id": "_tlCPXWxYP8_",
        "outputId": "dcc4dbb3-7049-45c3-be81-6ecad9fcc3ef",
        "colab": {
          "base_uri": "https://localhost:8080/"
        }
      },
      "execution_count": 10,
      "outputs": [
        {
          "output_type": "execute_result",
          "data": {
            "text/plain": [
              "array([b'abcdefg', b'xyz'], dtype=object)"
            ]
          },
          "metadata": {},
          "execution_count": 10
        }
      ]
    },
    {
      "cell_type": "code",
      "source": [
        "def text_from_ids(ids):\n",
        "    return tf.strings.reduce_join(chars_from_ids(ids), axis=-1)"
      ],
      "metadata": {
        "id": "MtCZdP_5YTSB"
      },
      "execution_count": 11,
      "outputs": []
    },
    {
      "cell_type": "code",
      "source": [
        "all_ids = ids_from_chars(tf.strings.unicode_split(text, 'UTF-8'))\n",
        "all_ids"
      ],
      "metadata": {
        "id": "HC8TBgOdYV_R",
        "outputId": "0cb01f1d-ff28-420b-b5c7-939769aff671",
        "colab": {
          "base_uri": "https://localhost:8080/"
        }
      },
      "execution_count": 12,
      "outputs": [
        {
          "output_type": "execute_result",
          "data": {
            "text/plain": [
              "<tf.Tensor: shape=(1115394,), dtype=int64, numpy=array([19, 48, 57, ..., 46,  9,  1])>"
            ]
          },
          "metadata": {},
          "execution_count": 12
        }
      ]
    },
    {
      "cell_type": "code",
      "source": [
        "ids_dataset = tf.data.Dataset.from_tensor_slices(all_ids)"
      ],
      "metadata": {
        "id": "8cWHP97nYXT4"
      },
      "execution_count": 13,
      "outputs": []
    },
    {
      "cell_type": "code",
      "source": [
        "for ids in ids_dataset.take(10):\n",
        "    print(chars_from_ids(ids).numpy().decode('utf-8'))"
      ],
      "metadata": {
        "id": "zqdr1xoLYapv",
        "outputId": "f395b1c1-3b37-49aa-c11f-c854f62a3eee",
        "colab": {
          "base_uri": "https://localhost:8080/"
        }
      },
      "execution_count": 14,
      "outputs": [
        {
          "output_type": "stream",
          "name": "stdout",
          "text": [
            "F\n",
            "i\n",
            "r\n",
            "s\n",
            "t\n",
            " \n",
            "C\n",
            "i\n",
            "t\n",
            "i\n"
          ]
        }
      ]
    },
    {
      "cell_type": "code",
      "source": [
        "seq_length = 100"
      ],
      "metadata": {
        "id": "HNyMUptTYjkT"
      },
      "execution_count": 15,
      "outputs": []
    },
    {
      "cell_type": "code",
      "source": [
        "sequences = ids_dataset.batch(seq_length+1, drop_remainder=True)\n",
        "\n",
        "for seq in sequences.take(1):\n",
        "  print(chars_from_ids(seq))"
      ],
      "metadata": {
        "id": "SYqM1axBYnWb",
        "outputId": "f287b576-a507-440f-86ff-967441d19a19",
        "colab": {
          "base_uri": "https://localhost:8080/"
        }
      },
      "execution_count": 16,
      "outputs": [
        {
          "output_type": "stream",
          "name": "stdout",
          "text": [
            "tf.Tensor(\n",
            "[b'F' b'i' b'r' b's' b't' b' ' b'C' b'i' b't' b'i' b'z' b'e' b'n' b':'\n",
            " b'\\n' b'B' b'e' b'f' b'o' b'r' b'e' b' ' b'w' b'e' b' ' b'p' b'r' b'o'\n",
            " b'c' b'e' b'e' b'd' b' ' b'a' b'n' b'y' b' ' b'f' b'u' b'r' b't' b'h'\n",
            " b'e' b'r' b',' b' ' b'h' b'e' b'a' b'r' b' ' b'm' b'e' b' ' b's' b'p'\n",
            " b'e' b'a' b'k' b'.' b'\\n' b'\\n' b'A' b'l' b'l' b':' b'\\n' b'S' b'p' b'e'\n",
            " b'a' b'k' b',' b' ' b's' b'p' b'e' b'a' b'k' b'.' b'\\n' b'\\n' b'F' b'i'\n",
            " b'r' b's' b't' b' ' b'C' b'i' b't' b'i' b'z' b'e' b'n' b':' b'\\n' b'Y'\n",
            " b'o' b'u' b' '], shape=(101,), dtype=string)\n"
          ]
        }
      ]
    },
    {
      "cell_type": "code",
      "source": [
        "for seq in sequences.take(5):\n",
        "    print(text_from_ids(seq).numpy())"
      ],
      "metadata": {
        "id": "RDXqPY64Yo1R",
        "outputId": "54a82429-0b9e-4f3f-9107-3549eb8e7549",
        "colab": {
          "base_uri": "https://localhost:8080/"
        }
      },
      "execution_count": 17,
      "outputs": [
        {
          "output_type": "stream",
          "name": "stdout",
          "text": [
            "b'First Citizen:\\nBefore we proceed any further, hear me speak.\\n\\nAll:\\nSpeak, speak.\\n\\nFirst Citizen:\\nYou '\n",
            "b'are all resolved rather to die than to famish?\\n\\nAll:\\nResolved. resolved.\\n\\nFirst Citizen:\\nFirst, you k'\n",
            "b\"now Caius Marcius is chief enemy to the people.\\n\\nAll:\\nWe know't, we know't.\\n\\nFirst Citizen:\\nLet us ki\"\n",
            "b\"ll him, and we'll have corn at our own price.\\nIs't a verdict?\\n\\nAll:\\nNo more talking on't; let it be d\"\n",
            "b'one: away, away!\\n\\nSecond Citizen:\\nOne word, good citizens.\\n\\nFirst Citizen:\\nWe are accounted poor citi'\n"
          ]
        }
      ]
    },
    {
      "cell_type": "code",
      "source": [
        "def split_input_target(sequence):\n",
        "    input_text = sequence[:-1]\n",
        "    target_text = sequence[1:]\n",
        "    return input_text, target_text"
      ],
      "metadata": {
        "id": "4NS2X6CqYsv5"
      },
      "execution_count": 18,
      "outputs": []
    },
    {
      "cell_type": "code",
      "source": [
        "split_input_target(list(\"Tensorflow\"))"
      ],
      "metadata": {
        "id": "1jWCRukjYvUg",
        "outputId": "227e46ab-dc93-4611-999b-ea35fc369f65",
        "colab": {
          "base_uri": "https://localhost:8080/"
        }
      },
      "execution_count": 19,
      "outputs": [
        {
          "output_type": "execute_result",
          "data": {
            "text/plain": [
              "(['T', 'e', 'n', 's', 'o', 'r', 'f', 'l', 'o'],\n",
              " ['e', 'n', 's', 'o', 'r', 'f', 'l', 'o', 'w'])"
            ]
          },
          "metadata": {},
          "execution_count": 19
        }
      ]
    },
    {
      "cell_type": "code",
      "source": [
        "dataset = sequences.map(split_input_target)"
      ],
      "metadata": {
        "id": "reC2bTkXYwiM"
      },
      "execution_count": 20,
      "outputs": []
    },
    {
      "cell_type": "code",
      "source": [
        "for input_example, target_example in dataset.take(1):\n",
        "    print(\"Input :\", text_from_ids(input_example).numpy())\n",
        "    print(\"Target:\", text_from_ids(target_example).numpy())"
      ],
      "metadata": {
        "id": "38037ZeGY0Qf",
        "outputId": "f260fd6e-c75e-4c8b-8dfc-5d4e2c8cdf82",
        "colab": {
          "base_uri": "https://localhost:8080/"
        }
      },
      "execution_count": 21,
      "outputs": [
        {
          "output_type": "stream",
          "name": "stdout",
          "text": [
            "Input : b'First Citizen:\\nBefore we proceed any further, hear me speak.\\n\\nAll:\\nSpeak, speak.\\n\\nFirst Citizen:\\nYou'\n",
            "Target: b'irst Citizen:\\nBefore we proceed any further, hear me speak.\\n\\nAll:\\nSpeak, speak.\\n\\nFirst Citizen:\\nYou '\n"
          ]
        }
      ]
    },
    {
      "cell_type": "code",
      "source": [
        "# Batch size\n",
        "BATCH_SIZE = 64\n",
        "\n",
        "# Buffer size to shuffle the dataset\n",
        "# (TF data is designed to work with possibly infinite sequences,\n",
        "# so it doesn't attempt to shuffle the entire sequence in memory. Instead,\n",
        "# it maintains a buffer in which it shuffles elements).\n",
        "BUFFER_SIZE = 10000\n",
        "\n",
        "dataset = (\n",
        "    dataset\n",
        "    .shuffle(BUFFER_SIZE)\n",
        "    .batch(BATCH_SIZE, drop_remainder=True)\n",
        "    .prefetch(tf.data.experimental.AUTOTUNE))\n",
        "\n",
        "dataset"
      ],
      "metadata": {
        "id": "rL5gGu3KY22b",
        "outputId": "d81de5c4-77d0-4c63-94dd-40da7c2fa44c",
        "colab": {
          "base_uri": "https://localhost:8080/"
        }
      },
      "execution_count": 22,
      "outputs": [
        {
          "output_type": "execute_result",
          "data": {
            "text/plain": [
              "<_PrefetchDataset element_spec=(TensorSpec(shape=(64, 100), dtype=tf.int64, name=None), TensorSpec(shape=(64, 100), dtype=tf.int64, name=None))>"
            ]
          },
          "metadata": {},
          "execution_count": 22
        }
      ]
    },
    {
      "cell_type": "code",
      "source": [
        "# Length of the vocabulary in StringLookup Layer\n",
        "vocab_size = len(ids_from_chars.get_vocabulary())\n",
        "\n",
        "# The embedding dimension\n",
        "embedding_dim = 256\n",
        "\n",
        "# Number of RNN units\n",
        "rnn_units = 1024"
      ],
      "metadata": {
        "id": "x95J8xAaY4ZY"
      },
      "execution_count": 23,
      "outputs": []
    },
    {
      "cell_type": "code",
      "source": [
        "class MyModel(tf.keras.Model):\n",
        "  def __init__(self, vocab_size, embedding_dim, rnn_units):\n",
        "    super().__init__(self)\n",
        "    self.embedding = tf.keras.layers.Embedding(vocab_size, embedding_dim)\n",
        "    self.gru = tf.keras.layers.GRU(rnn_units,\n",
        "                                   return_sequences=True,\n",
        "                                   return_state=True)\n",
        "    self.dense = tf.keras.layers.Dense(vocab_size)\n",
        "\n",
        "  def call(self, inputs, states=None, return_state=False, training=False):\n",
        "    x = inputs\n",
        "    x = self.embedding(x, training=training)\n",
        "    if states is None:\n",
        "      states = self.gru.get_initial_state(x)\n",
        "    x, states = self.gru(x, initial_state=states, training=training)\n",
        "    x = self.dense(x, training=training)\n",
        "\n",
        "    if return_state:\n",
        "      return x, states\n",
        "    else:\n",
        "      return x"
      ],
      "metadata": {
        "id": "pYB7Z1HbY7MF"
      },
      "execution_count": 24,
      "outputs": []
    },
    {
      "cell_type": "code",
      "source": [
        "model = MyModel(\n",
        "    vocab_size=vocab_size,\n",
        "    embedding_dim=embedding_dim,\n",
        "    rnn_units=rnn_units)"
      ],
      "metadata": {
        "id": "EvG32m64Y9z0"
      },
      "execution_count": 25,
      "outputs": []
    },
    {
      "cell_type": "code",
      "source": [
        "for input_example_batch, target_example_batch in dataset.take(1):\n",
        "    example_batch_predictions = model(input_example_batch)\n",
        "    print(example_batch_predictions.shape, \"# (batch_size, sequence_length, vocab_size)\")"
      ],
      "metadata": {
        "id": "3rZLdcQoaZP6",
        "outputId": "47e6f554-51ad-4fe0-a2c2-2ba6348b39df",
        "colab": {
          "base_uri": "https://localhost:8080/"
        }
      },
      "execution_count": 26,
      "outputs": [
        {
          "output_type": "stream",
          "name": "stdout",
          "text": [
            "(64, 100, 66) # (batch_size, sequence_length, vocab_size)\n"
          ]
        }
      ]
    },
    {
      "cell_type": "code",
      "source": [
        "model.summary()"
      ],
      "metadata": {
        "id": "vUEPORlGaber",
        "outputId": "3fca10cf-4bc6-425d-9182-d5708bf830c7",
        "colab": {
          "base_uri": "https://localhost:8080/"
        }
      },
      "execution_count": 27,
      "outputs": [
        {
          "output_type": "stream",
          "name": "stdout",
          "text": [
            "Model: \"my_model\"\n",
            "_________________________________________________________________\n",
            " Layer (type)                Output Shape              Param #   \n",
            "=================================================================\n",
            " embedding (Embedding)       multiple                  16896     \n",
            "                                                                 \n",
            " gru (GRU)                   multiple                  3938304   \n",
            "                                                                 \n",
            " dense (Dense)               multiple                  67650     \n",
            "                                                                 \n",
            "=================================================================\n",
            "Total params: 4022850 (15.35 MB)\n",
            "Trainable params: 4022850 (15.35 MB)\n",
            "Non-trainable params: 0 (0.00 Byte)\n",
            "_________________________________________________________________\n"
          ]
        }
      ]
    },
    {
      "cell_type": "code",
      "source": [
        "sampled_indices = tf.random.categorical(example_batch_predictions[0], num_samples=1)\n",
        "sampled_indices = tf.squeeze(sampled_indices, axis=-1).numpy()"
      ],
      "metadata": {
        "id": "8c_4XXlBaebx"
      },
      "execution_count": 28,
      "outputs": []
    },
    {
      "cell_type": "code",
      "source": [
        "sampled_indices"
      ],
      "metadata": {
        "id": "XDqiJgKaah9a",
        "outputId": "8632cc31-1dbc-4d05-8e95-a93a6aafbff9",
        "colab": {
          "base_uri": "https://localhost:8080/"
        }
      },
      "execution_count": 29,
      "outputs": [
        {
          "output_type": "execute_result",
          "data": {
            "text/plain": [
              "array([25, 41, 25, 63,  6, 52, 52,  1, 13, 43, 15, 49,  3, 49, 60,  3, 62,\n",
              "       39, 65, 50, 34,  3, 32, 54, 42, 13, 41, 28, 28, 12,  1, 22, 52, 18,\n",
              "       57, 11, 35, 26, 48,  3, 52, 37, 41, 38, 15, 64, 28, 24, 62, 39, 21,\n",
              "       42,  8, 11, 10, 30, 64, 42, 33, 10,  9, 46, 55, 12, 13, 43, 55,  4,\n",
              "       39, 20, 50, 19, 58, 17, 22, 64, 54,  8, 35,  7, 40, 18, 50,  9, 18,\n",
              "       28, 16, 65, 22, 50, 43, 11, 32, 24, 21, 29, 10, 40,  0, 60])"
            ]
          },
          "metadata": {},
          "execution_count": 29
        }
      ]
    },
    {
      "cell_type": "code",
      "source": [
        "print(\"Input:\\n\", text_from_ids(input_example_batch[0]).numpy())\n",
        "print()\n",
        "print(\"Next Char Predictions:\\n\", text_from_ids(sampled_indices).numpy())"
      ],
      "metadata": {
        "id": "pt8jw9s5akSn",
        "outputId": "53d3c894-8312-4335-e6f8-c023003603cb",
        "colab": {
          "base_uri": "https://localhost:8080/"
        }
      },
      "execution_count": 30,
      "outputs": [
        {
          "output_type": "stream",
          "name": "stdout",
          "text": [
            "Input:\n",
            " b\"icious woman,\\nCompact with her that's gone, think'st thou thy oaths,\\nThough they would swear down ea\"\n",
            "\n",
            "Next Char Predictions:\n",
            " b\"LbLx'mm\\n?dBj!ju!wZzkU!Soc?bOO;\\nImEr:VMi!mXbYByOKwZHc-:3QycT3.gp;?dp$ZGkFsDIyo-V,aEk.EOCzIkd:SKHP3a[UNK]u\"\n"
          ]
        }
      ]
    },
    {
      "cell_type": "code",
      "source": [
        "loss = tf.losses.SparseCategoricalCrossentropy(from_logits=True)"
      ],
      "metadata": {
        "id": "-KYvEeryanXz"
      },
      "execution_count": 31,
      "outputs": []
    },
    {
      "cell_type": "code",
      "source": [
        "example_batch_mean_loss = loss(target_example_batch, example_batch_predictions)\n",
        "print(\"Prediction shape: \", example_batch_predictions.shape, \" # (batch_size, sequence_length, vocab_size)\")\n",
        "print(\"Mean loss:        \", example_batch_mean_loss)"
      ],
      "metadata": {
        "id": "hl_WX4qUapcc",
        "outputId": "f5e76540-32ae-4821-8a66-63be477e3f75",
        "colab": {
          "base_uri": "https://localhost:8080/"
        }
      },
      "execution_count": 32,
      "outputs": [
        {
          "output_type": "stream",
          "name": "stdout",
          "text": [
            "Prediction shape:  (64, 100, 66)  # (batch_size, sequence_length, vocab_size)\n",
            "Mean loss:         tf.Tensor(4.190283, shape=(), dtype=float32)\n"
          ]
        }
      ]
    },
    {
      "cell_type": "code",
      "source": [
        "tf.exp(example_batch_mean_loss).numpy()"
      ],
      "metadata": {
        "id": "VUNjpFeVasbm",
        "outputId": "ed030de6-78f1-4b15-ce18-31a6635272f4",
        "colab": {
          "base_uri": "https://localhost:8080/"
        }
      },
      "execution_count": 33,
      "outputs": [
        {
          "output_type": "execute_result",
          "data": {
            "text/plain": [
              "66.041466"
            ]
          },
          "metadata": {},
          "execution_count": 33
        }
      ]
    },
    {
      "cell_type": "code",
      "source": [
        "model.compile(optimizer='adam', loss=loss)"
      ],
      "metadata": {
        "id": "pQSzDlImauyd"
      },
      "execution_count": 34,
      "outputs": []
    },
    {
      "cell_type": "code",
      "source": [
        "# Directory where the checkpoints will be saved\n",
        "checkpoint_dir = './training_checkpoints'\n",
        "# Name of the checkpoint files\n",
        "checkpoint_prefix = os.path.join(checkpoint_dir, \"ckpt_{epoch}\")\n",
        "\n",
        "checkpoint_callback = tf.keras.callbacks.ModelCheckpoint(\n",
        "    filepath=checkpoint_prefix,\n",
        "    save_weights_only=True)"
      ],
      "metadata": {
        "id": "VRrewX-pawis"
      },
      "execution_count": 35,
      "outputs": []
    },
    {
      "cell_type": "code",
      "source": [
        "EPOCHS = 20"
      ],
      "metadata": {
        "id": "JC-Blg7ea0Xi"
      },
      "execution_count": 36,
      "outputs": []
    },
    {
      "cell_type": "code",
      "source": [
        "history = model.fit(dataset, epochs=EPOCHS, callbacks=[checkpoint_callback])"
      ],
      "metadata": {
        "id": "4NZhQoALa1il",
        "outputId": "2c18dde3-5a34-4d46-d7cf-7a37e59af65c",
        "colab": {
          "base_uri": "https://localhost:8080/"
        }
      },
      "execution_count": 37,
      "outputs": [
        {
          "output_type": "stream",
          "name": "stdout",
          "text": [
            "Epoch 1/20\n",
            "172/172 [==============================] - 662s 4s/step - loss: 2.7204\n",
            "Epoch 2/20\n",
            "172/172 [==============================] - 649s 4s/step - loss: 1.9909\n",
            "Epoch 3/20\n",
            "172/172 [==============================] - 647s 4s/step - loss: 1.7108\n",
            "Epoch 4/20\n",
            "172/172 [==============================] - 646s 4s/step - loss: 1.5494\n",
            "Epoch 5/20\n",
            "172/172 [==============================] - 646s 4s/step - loss: 1.4499\n",
            "Epoch 6/20\n",
            "172/172 [==============================] - 647s 4s/step - loss: 1.3814\n",
            "Epoch 7/20\n",
            "172/172 [==============================] - 646s 4s/step - loss: 1.3283\n",
            "Epoch 8/20\n",
            "172/172 [==============================] - 647s 4s/step - loss: 1.2840\n",
            "Epoch 9/20\n",
            "172/172 [==============================] - 644s 4s/step - loss: 1.2442\n",
            "Epoch 10/20\n",
            "172/172 [==============================] - 643s 4s/step - loss: 1.2041\n",
            "Epoch 11/20\n",
            "172/172 [==============================] - 644s 4s/step - loss: 1.1640\n",
            "Epoch 12/20\n",
            "172/172 [==============================] - 644s 4s/step - loss: 1.1238\n",
            "Epoch 13/20\n",
            "172/172 [==============================] - 642s 4s/step - loss: 1.0813\n",
            "Epoch 14/20\n",
            "172/172 [==============================] - 641s 4s/step - loss: 1.0351\n",
            "Epoch 15/20\n",
            "172/172 [==============================] - 639s 4s/step - loss: 0.9876\n",
            "Epoch 16/20\n",
            "172/172 [==============================] - 641s 4s/step - loss: 0.9366\n",
            "Epoch 17/20\n",
            "172/172 [==============================] - 640s 4s/step - loss: 0.8845\n",
            "Epoch 18/20\n",
            "172/172 [==============================] - 639s 4s/step - loss: 0.8322\n",
            "Epoch 19/20\n",
            "172/172 [==============================] - 640s 4s/step - loss: 0.7806\n",
            "Epoch 20/20\n",
            "172/172 [==============================] - 640s 4s/step - loss: 0.7311\n"
          ]
        }
      ]
    },
    {
      "cell_type": "code",
      "source": [
        "class OneStep(tf.keras.Model):\n",
        "  def __init__(self, model, chars_from_ids, ids_from_chars, temperature=1.0):\n",
        "    super().__init__()\n",
        "    self.temperature = temperature\n",
        "    self.model = model\n",
        "    self.chars_from_ids = chars_from_ids\n",
        "    self.ids_from_chars = ids_from_chars\n",
        "\n",
        "    # Create a mask to prevent \"[UNK]\" from being generated.\n",
        "    skip_ids = self.ids_from_chars(['[UNK]'])[:, None]\n",
        "    sparse_mask = tf.SparseTensor(\n",
        "        # Put a -inf at each bad index.\n",
        "        values=[-float('inf')]*len(skip_ids),\n",
        "        indices=skip_ids,\n",
        "        # Match the shape to the vocabulary\n",
        "        dense_shape=[len(ids_from_chars.get_vocabulary())])\n",
        "    self.prediction_mask = tf.sparse.to_dense(sparse_mask)\n",
        "\n",
        "  @tf.function\n",
        "  def generate_one_step(self, inputs, states=None):\n",
        "    # Convert strings to token IDs.\n",
        "    input_chars = tf.strings.unicode_split(inputs, 'UTF-8')\n",
        "    input_ids = self.ids_from_chars(input_chars).to_tensor()\n",
        "\n",
        "    # Run the model.\n",
        "    # predicted_logits.shape is [batch, char, next_char_logits]\n",
        "    predicted_logits, states = self.model(inputs=input_ids, states=states,\n",
        "                                          return_state=True)\n",
        "    # Only use the last prediction.\n",
        "    predicted_logits = predicted_logits[:, -1, :]\n",
        "    predicted_logits = predicted_logits/self.temperature\n",
        "    # Apply the prediction mask: prevent \"[UNK]\" from being generated.\n",
        "    predicted_logits = predicted_logits + self.prediction_mask\n",
        "\n",
        "    # Sample the output logits to generate token IDs.\n",
        "    predicted_ids = tf.random.categorical(predicted_logits, num_samples=1)\n",
        "    predicted_ids = tf.squeeze(predicted_ids, axis=-1)\n",
        "\n",
        "    # Convert from token ids to characters\n",
        "    predicted_chars = self.chars_from_ids(predicted_ids)\n",
        "\n",
        "    # Return the characters and model state.\n",
        "    return predicted_chars, states"
      ],
      "metadata": {
        "id": "D9yhHfOoPekP"
      },
      "execution_count": 38,
      "outputs": []
    },
    {
      "cell_type": "code",
      "source": [
        "one_step_model = OneStep(model, chars_from_ids, ids_from_chars)"
      ],
      "metadata": {
        "id": "UYdXXlY-PlaT"
      },
      "execution_count": 39,
      "outputs": []
    },
    {
      "cell_type": "code",
      "source": [
        "start = time.time()\n",
        "states = None\n",
        "next_char = tf.constant(['ROMEO:'])\n",
        "result = [next_char]\n",
        "\n",
        "for n in range(1000):\n",
        "  next_char, states = one_step_model.generate_one_step(next_char, states=states)\n",
        "  result.append(next_char)\n",
        "\n",
        "result = tf.strings.join(result)\n",
        "end = time.time()\n",
        "print(result[0].numpy().decode('utf-8'), '\\n\\n' + '_'*80)\n",
        "print('\\nRun time:', end - start)"
      ],
      "metadata": {
        "id": "bTk3No34PuHk",
        "outputId": "58ea1967-31f8-45f1-ff8b-8fa090cf6314",
        "colab": {
          "base_uri": "https://localhost:8080/"
        }
      },
      "execution_count": 40,
      "outputs": [
        {
          "output_type": "stream",
          "name": "stdout",
          "text": [
            "ROMEO:\n",
            "I say how thwalter'd Murderer:\n",
            "Rather can I never be revenged from friend:\n",
            "Like a bold spilt beseeming in his meddless'd,\n",
            "For firmis his father be in process\n",
            "Of who shouldst keep his eye as doughly seal down\n",
            "Resigned eyes shallow the venour chance to-morrow.\n",
            "Hark! the king comes! Friar London, tyrrel,\n",
            "But meet her kindled, it would bedeach it.\n",
            "\n",
            "QUEEN MARGARET:\n",
            "Thy death, crush of this place Lady Targenes, and so good,\n",
            "Is come to have a thousand swords.\n",
            "\n",
            "BENVOLIO:\n",
            "Roundly lamente!' but he's done, so bright in this;\n",
            "I will not part you fit to help me soundly\n",
            "To be revenged on him.\n",
            "\n",
            "BUCKINGHAM:\n",
            "I am the voy of this first here, there should be hung\n",
            "And blow the heart of special prince,\n",
            "And says he wame, until I be your foe.\n",
            "\n",
            "MARIINA:\n",
            "I know; you're a noble ancestor;\n",
            "And of those cry of that death unto a rock, I pray.\n",
            "\n",
            "TRANIO:\n",
            "Why, she's a lawful as any if you be ready,\n",
            "Till I will appear thine of the death of other:\n",
            "Glouge can we now stay undertake thy love,\n",
            "That you shall find out anothe \n",
            "\n",
            "________________________________________________________________________________\n",
            "\n",
            "Run time: 2.6066322326660156\n"
          ]
        }
      ]
    },
    {
      "cell_type": "code",
      "source": [
        "start = time.time()\n",
        "states = None\n",
        "next_char = tf.constant(['ROMEO:', 'ROMEO:', 'ROMEO:', 'ROMEO:', 'ROMEO:'])\n",
        "result = [next_char]\n",
        "\n",
        "for n in range(1000):\n",
        "  next_char, states = one_step_model.generate_one_step(next_char, states=states)\n",
        "  result.append(next_char)\n",
        "\n",
        "result = tf.strings.join(result)\n",
        "end = time.time()\n",
        "print(result, '\\n\\n' + '_'*80)\n",
        "print('\\nRun time:', end - start)"
      ],
      "metadata": {
        "id": "67qNWbHiP0bw",
        "outputId": "35b50b80-58e6-4ea7-bb52-4582771edad4",
        "colab": {
          "base_uri": "https://localhost:8080/"
        }
      },
      "execution_count": 41,
      "outputs": [
        {
          "output_type": "stream",
          "name": "stdout",
          "text": [
            "tf.Tensor(\n",
            "[b\"ROMEO:\\nThe cellars thigh, by my revenge husband,\\nAnd pluck the majmst the Dulf was proof, Jalies!\\nWhat he doth make, some fearful empty exarl.\\n\\nHASTINGS:\\nI tender happy then, and I'll stay all\\nyour power; back-born! comes what I bone\\nTo real our person which starve with thee\\nAs thou lovest in his foe; for once of man,\\nFrom conveyance in himself which in her chase of us\\nAnd like an extreme pass of the news.\\n\\nCORIOLANUS:\\nGo to! no more: my father\\nWas too intended to be his choices?\\n\\nCATESBY:\\nMadam, if you be he, Biondello?\\n\\nBIONDELLO:\\nI cannot do to him: 'Tis pastly told.\\n\\nKING RICHARD III:\\nThen, dreadful namish me, this must what thou hast been\\nwiped my authonity, your honour hath Bore men\\nIf being Romeo: you have made wearing Jehamb,\\nAnd thou but duty and made him may: I beseech you\\nwhen I was a poor winted's champion's wife's insolence?\\nAt thy good nays both, if it be innocent.\\nI was your grace Lad's warm thee to a\\ngreat garden--on thy bed,\\nEnemies shows a short-worthine;\\nLike tongue more p\"\n",
            " b\"ROMEO:\\nThe lowers laugh and what till it be brought\\nThe grace of me and mates, traitors, hast\\nshow'd the favours to the sun. Your beck!\\nI do not shot their cheeks with flat of man!\\nSchoolmaster more much loss by holy and soon\\nAs well as stay. I bust it yet nour multituous;\\nO, see him live, I link'd up your company,\\nI'll pardon on thee to exclain and stone with,\\nHath so to ornaft'd she dies,\\nAnd twice five honour of a puisten place.\\n\\nDUKE VINCENTIO:\\nO gallant! he was never offended upon my\\nthe gracious of the time when I last away.\\n\\nKATHARINA:\\nI know a goodly company,\\nAnd who next more best that with Gollowers\\nAs from lew faster queen, I did in a\\nUnprison, ere I can op on a plain,\\nOn Judual poor corfers 'we have mad to Ronantie\\nWho hadst an edge of answer: how he conclueds,\\nAway to expost us nothing.\\n\\nCATESBY:\\nThe gods could fear me fund, by baintly grace!\\nGod's wrath, if Warwick nature speak, thou\\nwilt provoke us, having made defend that here we heard\\nAgainst thy cheek, and here be many a mo\"\n",
            " b\"ROMEO:\\nWhy, so stroke than when?\\nBe gone! you promise your ways, sir; I'ld be gone.\\n\\nQUEEN ELIZABETH:\\nGive me thy give way to wear the damn-hard-hearted from himself\\nThat nature love want thou this dead night. Coffice,\\n'tis leave?\\n\\nAUFIDIUS:\\nIn that you prote, for, go\\nyou know.\\n\\nCORIOLANUS:\\nComfort, my lord, let's see the cause of hists\\nAs I by Harthumberland so answer?\\n\\nLUCENTIO:\\nI have been known for which no wars tardy.\\n\\nCORIOLANUS:\\nWho sets himself?\\nShall we the careful coisures of the wry\\nThat murder'd Northamp, to have her ainted in\\nMy careless livery, to the fignely hold\\nCheerfully as the prettiest shorm,\\nAs from a slee-embagamental together, but\\nthen farewell for that. Now, for my life, hath not so sign,\\nTill I be Lork and in AbLainten\\nMust aught embrace clamper; both himself\\nThis torture sworn I were exactly burn'd,\\nBy the alligned in thimself; against\\nWhom we are vow'd up on pray; to whose stand weeps\\nTo wink my rumedy: hang hitherlish words,\\nBut little policy damn changed for his\\n\"\n",
            " b\"ROMEO:\\nThy husband's moistary be so holy?\\n\\nCAPULET:\\nWhy, this is a foreweath to be so.\\n\\nCitizens:\\nYe's temple, Claudio, towards Lancaster,\\nFortune and Lady peniulm an\\n's would have rest up for divided proginal paints:\\nAnd, Warwick, that hath brought you to the Capulets:\\nI carro leannedly to a woful bed,\\nAnd to the rubunciunlant of thy daughter.\\nIn truth, and did the prayer of hearts\\nHere straight; tell me what I have frown'd my overyman:\\nMust and we shall not be avoided with\\nA power 'Forgething brother; 'tis but not unkindly.\\n\\nCORIOLANUS:\\nI had rather made;\\nThe king so bloody hole pity guess,\\nYields to fetch him himself visage for your voices: I\\nWas heard me suffer'd; I will rend\\na cold interceasent; then cherishing so confedeate\\nTo cabin him such a perion: this\\nwhich smoles will feed so curst and ruin: it is to\\nsee this goodly brother.\\n\\nKING RICHARD II:\\nWhat words Busideant with this,--this is the execution;\\nFor my poor pounds, if Calsboy's brows,\\nAnd make part of Warwick, black supposing s\"\n",
            " b\"ROMEO:\\nCome, sister,--whate'er I woo'd he longs aponge\\nThine eyes drance and to ruin bastards?\\n\\nNurse:\\nMarry, sir, I know him,\\nFor here I shall drazad lady hours.\\n\\nKING RICHARD III:\\nMy dukedom! stand in his son, that can imputation,\\nAt Prison'd by the horse did thread:\\nI would I subject to a well-desperge\\nWith what enemixed heavens, take your best:\\nAs when a chased day remaining, I\\nThoughts you have a few. For which I do bim some assurance,\\nMethinks not up this present, as thou art, I protest\\nAudest by the fairest up and pluckers\\n3 KING HENRY VI\\n\\nRIVERS:\\nMadam, I hear thee in our cornfress! how is it?\\n\\nA Patrician:\\nAy, and to watch-calamer in shore dead.\\n\\nSecond Servingman:\\nWhy, how now, that I is't so; You are come I\\nCome to the biside.\\n\\nDUKE VINCENTIO:\\n\\nLAONT:\\nMock not Angelo?\\nI have a hot offend home for you: yet still before thine heavenly\\nAre come and all this precisue.\\n\\nFRIAR LAURENCE:\\nThou art deceived: 'tis for the prince a mag.\\nBut Jades steel, to begoo here, taking it again:\\nGod an\"], shape=(5,), dtype=string) \n",
            "\n",
            "________________________________________________________________________________\n",
            "\n",
            "Run time: 2.8819739818573\n"
          ]
        }
      ]
    },
    {
      "cell_type": "code",
      "source": [
        "tf.saved_model.save(one_step_model, 'one_step')\n",
        "one_step_reloaded = tf.saved_model.load('one_step')"
      ],
      "metadata": {
        "id": "Ki8pN0FJP24G",
        "outputId": "156c8fc8-7619-42c9-ec7e-586a60003744",
        "colab": {
          "base_uri": "https://localhost:8080/"
        }
      },
      "execution_count": 42,
      "outputs": [
        {
          "output_type": "stream",
          "name": "stderr",
          "text": [
            "WARNING:tensorflow:Skipping full serialization of Keras layer <__main__.OneStep object at 0x7f43e25668c0>, because it is not built.\n",
            "WARNING:tensorflow:Model's `__init__()` arguments contain non-serializable objects. Please implement a `get_config()` method in the subclassed Model for proper saving and loading. Defaulting to empty config.\n",
            "WARNING:tensorflow:Model's `__init__()` arguments contain non-serializable objects. Please implement a `get_config()` method in the subclassed Model for proper saving and loading. Defaulting to empty config.\n"
          ]
        }
      ]
    },
    {
      "cell_type": "code",
      "source": [
        "states = None\n",
        "next_char = tf.constant(['ROMEO:'])\n",
        "result = [next_char]\n",
        "\n",
        "for n in range(100):\n",
        "  next_char, states = one_step_reloaded.generate_one_step(next_char, states=states)\n",
        "  result.append(next_char)\n",
        "\n",
        "print(tf.strings.join(result)[0].numpy().decode(\"utf-8\"))"
      ],
      "metadata": {
        "id": "NU8BpWv1P8OQ",
        "outputId": "62b3bc0a-b649-4e54-ddc5-4b380e440f15",
        "colab": {
          "base_uri": "https://localhost:8080/"
        }
      },
      "execution_count": 43,
      "outputs": [
        {
          "output_type": "stream",
          "name": "stdout",
          "text": [
            "ROMEO:\n",
            "I am the child, he stull upon the fard\n",
            "Of power: I will prove Vincention, does!\n",
            "Save thine! And if \n"
          ]
        }
      ]
    },
    {
      "cell_type": "markdown",
      "source": [
        "*Tugas Praktikum*"
      ],
      "metadata": {
        "id": "t0uJW4w3QBX7"
      }
    }
  ]
}