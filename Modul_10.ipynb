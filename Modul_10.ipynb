{
  "nbformat": 4,
  "nbformat_minor": 0,
  "metadata": {
    "colab": {
      "provenance": [],
      "gpuType": "T4",
      "include_colab_link": true
    },
    "kernelspec": {
      "name": "python3",
      "display_name": "Python 3"
    },
    "language_info": {
      "name": "python"
    },
    "accelerator": "GPU"
  },
  "cells": [
    {
      "cell_type": "markdown",
      "metadata": {
        "id": "view-in-github",
        "colab_type": "text"
      },
      "source": [
        "<a href=\"https://colab.research.google.com/github/RIZKYANGKATA/MACHLEARN/blob/main/Modul_10.ipynb\" target=\"_parent\"><img src=\"https://colab.research.google.com/assets/colab-badge.svg\" alt=\"Open In Colab\"/></a>"
      ]
    },
    {
      "cell_type": "markdown",
      "source": [
        "Nama : Rizky Angkata Putra S.\n",
        "\n",
        "Kelas : TI-3A\n",
        "\n",
        "No. Absen : 24  \n",
        "\n",
        "PRAKTIKUM P10"
      ],
      "metadata": {
        "id": "FcikQGqJHMPl"
      }
    },
    {
      "cell_type": "markdown",
      "source": [
        "PRAKTIKUM 1"
      ],
      "metadata": {
        "id": "sWAWnjJYFp-U"
      }
    },
    {
      "cell_type": "code",
      "execution_count": null,
      "metadata": {
        "id": "bsfQFVaVFW3M"
      },
      "outputs": [],
      "source": [
        "import numpy as np\n",
        "import tensorflow_datasets as tfds\n",
        "import tensorflow as tf\n",
        "\n",
        "tfds.disable_progress_bar()"
      ]
    },
    {
      "cell_type": "code",
      "source": [
        "import matplotlib.pyplot as plt\n",
        "\n",
        "def plot_graphs(history, metric):\n",
        "  plt.plot(history.history[metric])\n",
        "  plt.plot(history.history['val_'+metric], '')\n",
        "  plt.xlabel(\"Epochs\")\n",
        "  plt.ylabel(metric)\n",
        "  plt.legend([metric, 'val_'+metric])"
      ],
      "metadata": {
        "id": "q06l5ctkF-h4"
      },
      "execution_count": null,
      "outputs": []
    },
    {
      "cell_type": "markdown",
      "source": [
        "Setup input pipelin"
      ],
      "metadata": {
        "id": "jFbxit2dHOcc"
      }
    },
    {
      "cell_type": "code",
      "source": [
        "dataset, info = tfds.load('imdb_reviews', with_info=True,\n",
        "                          as_supervised=True)\n",
        "train_dataset, test_dataset = dataset['train'], dataset['test']\n",
        "\n",
        "train_dataset.element_spec"
      ],
      "metadata": {
        "colab": {
          "base_uri": "https://localhost:8080/"
        },
        "id": "yl1lcmsGHeZ7",
        "outputId": "9c64cb51-2fff-4001-89a4-a112d85b271e"
      },
      "execution_count": null,
      "outputs": [
        {
          "output_type": "stream",
          "name": "stdout",
          "text": [
            "Downloading and preparing dataset 80.23 MiB (download: 80.23 MiB, generated: Unknown size, total: 80.23 MiB) to /root/tensorflow_datasets/imdb_reviews/plain_text/1.0.0...\n",
            "Dataset imdb_reviews downloaded and prepared to /root/tensorflow_datasets/imdb_reviews/plain_text/1.0.0. Subsequent calls will reuse this data.\n"
          ]
        },
        {
          "output_type": "execute_result",
          "data": {
            "text/plain": [
              "(TensorSpec(shape=(), dtype=tf.string, name=None),\n",
              " TensorSpec(shape=(), dtype=tf.int64, name=None))"
            ]
          },
          "metadata": {},
          "execution_count": 7
        }
      ]
    },
    {
      "cell_type": "code",
      "source": [
        "for example, label in train_dataset.take(1):\n",
        "  print('text: ', example.numpy())\n",
        "  print('label: ', label.numpy())"
      ],
      "metadata": {
        "colab": {
          "base_uri": "https://localhost:8080/"
        },
        "id": "ZkDtxQWdJXwX",
        "outputId": "4f3a3c4c-4f8c-4cf1-8582-38630558b36f"
      },
      "execution_count": null,
      "outputs": [
        {
          "output_type": "stream",
          "name": "stdout",
          "text": [
            "text:  b\"This was an absolutely terrible movie. Don't be lured in by Christopher Walken or Michael Ironside. Both are great actors, but this must simply be their worst role in history. Even their great acting could not redeem this movie's ridiculous storyline. This movie is an early nineties US propaganda piece. The most pathetic scenes were those when the Columbian rebels were making their cases for revolutions. Maria Conchita Alonso appeared phony, and her pseudo-love affair with Walken was nothing but a pathetic emotional plug in a movie that was devoid of any real meaning. I am disappointed that there are movies like this, ruining actor's like Christopher Walken's good name. I could barely sit through it.\"\n",
            "label:  0\n"
          ]
        }
      ]
    },
    {
      "cell_type": "code",
      "source": [
        "BUFFER_SIZE = 10000\n",
        "BATCH_SIZE = 64\n",
        "\n",
        "train_dataset = train_dataset.shuffle(BUFFER_SIZE).batch(BATCH_SIZE).prefetch(tf.data.AUTOTUNE)\n",
        "test_dataset = test_dataset.batch(BATCH_SIZE).prefetch(tf.data.AUTOTUNE)\n",
        "\n",
        "for example, label in train_dataset.take(1):\n",
        "  print('texts: ', example.numpy()[:3])\n",
        "  print()\n",
        "  print('labels: ', label.numpy()[:3])"
      ],
      "metadata": {
        "colab": {
          "base_uri": "https://localhost:8080/"
        },
        "id": "pSByN1lsJbbE",
        "outputId": "e4a761c4-2e0a-4bc7-ac83-4696db0d43fa"
      },
      "execution_count": null,
      "outputs": [
        {
          "output_type": "stream",
          "name": "stdout",
          "text": [
            "texts:  [b'In spite of sterling work by the supporting actors, and an intelligent script by Alan Plater, this film suffers from a fatal flaw - the lack of charm of the central character/actor. One of the characters describes Richard E Grant\\'s character as \"a whining little turd\" and unfortunately this sums him up perfectly. There is nothing about him or his performance to make it credible that his girlfriend and upper-class publisher/friend would spend so much time and emotional effort on him. He is rude, arrogant, selfish, self-destructive and thoroughly annoying. The part called for an actor who can make you love him even when he is being a prate - a Ewan McGregor, for example.<br /><br />All of the witty satire on the class system etc was wasted, thanks to this irritating and thoroughly unlikeable performance. All I wanted to do was shake him and tell him to get over himself.'\n",
            " b'Absolutely awful movie. Utter waste of time.<br /><br />background music is so loud that you cannot understand speech. Well if you really listen closely, whatever they speak is actually unintelligible.<br /><br />Camera work is bad, editing is not present, background score gives a headache, action is shoddy, dialogs are unintelligible, Acting is abysmal and well Kareena used to look like a wrestler, now she looks like a starved wrestler. Hell you can slim down but you cannot gain grace.<br /><br />After spending three hours watching a movie I want to like it, but this movie would not even allow me that pleasure. <br /><br />Please if you want to torture yourself, go ahead watch this.'\n",
            " b\"A somewhat dull made for tv movie which premiered on the TBS cable station. Antonio and Janine run around chasing a killer computer virus and...that's about it. For trivia buffs this will be noted as debuting the same weekend that the real life 'Melissa' virus also made it's debut in e-mail inboxes across the world.\"]\n",
            "\n",
            "labels:  [0 0 0]\n"
          ]
        }
      ]
    },
    {
      "cell_type": "markdown",
      "source": [
        "Buat texs encoder"
      ],
      "metadata": {
        "id": "sFdSeJ9MJlEc"
      }
    },
    {
      "cell_type": "code",
      "source": [
        "VOCAB_SIZE = 1000\n",
        "encoder = tf.keras.layers.TextVectorization(\n",
        "    max_tokens=VOCAB_SIZE)\n",
        "encoder.adapt(train_dataset.map(lambda text, label: text))"
      ],
      "metadata": {
        "id": "CqQKS63IJ4M9"
      },
      "execution_count": null,
      "outputs": []
    },
    {
      "cell_type": "code",
      "source": [
        "vocab = np.array(encoder.get_vocabulary())\n",
        "vocab[:20]"
      ],
      "metadata": {
        "colab": {
          "base_uri": "https://localhost:8080/"
        },
        "id": "-5UY_v7pJ9GP",
        "outputId": "3fc4e195-6261-4354-be3f-42c37d7811d0"
      },
      "execution_count": null,
      "outputs": [
        {
          "output_type": "execute_result",
          "data": {
            "text/plain": [
              "array(['', '[UNK]', 'the', 'and', 'a', 'of', 'to', 'is', 'in', 'it', 'i',\n",
              "       'this', 'that', 'br', 'was', 'as', 'for', 'with', 'movie', 'but'],\n",
              "      dtype='<U14')"
            ]
          },
          "metadata": {},
          "execution_count": 11
        }
      ]
    },
    {
      "cell_type": "code",
      "source": [
        "encoded_example = encoder(example)[:3].numpy()\n",
        "encoded_example"
      ],
      "metadata": {
        "colab": {
          "base_uri": "https://localhost:8080/"
        },
        "id": "f-bk6koeKMjv",
        "outputId": "032ce89d-c661-4b45-bf33-335ffba7a2ab"
      },
      "execution_count": null,
      "outputs": [
        {
          "output_type": "execute_result",
          "data": {
            "text/plain": [
              "array([[  8,   1,   5, ...,   0,   0,   0],\n",
              "       [412, 381,  18, ...,   0,   0,   0],\n",
              "       [  4, 610, 758, ...,   0,   0,   0]])"
            ]
          },
          "metadata": {},
          "execution_count": 12
        }
      ]
    },
    {
      "cell_type": "code",
      "source": [
        "for n in range(3):\n",
        "  print(\"Original: \", example[n].numpy())\n",
        "  print(\"Round-trip: \", \" \".join(vocab[encoded_example[n]]))\n",
        "  print()"
      ],
      "metadata": {
        "colab": {
          "base_uri": "https://localhost:8080/"
        },
        "id": "faTrcitHKUtu",
        "outputId": "350c1505-c2d6-412f-a56b-dfb6bc81dd9e"
      },
      "execution_count": null,
      "outputs": [
        {
          "output_type": "stream",
          "name": "stdout",
          "text": [
            "Original:  b'In spite of sterling work by the supporting actors, and an intelligent script by Alan Plater, this film suffers from a fatal flaw - the lack of charm of the central character/actor. One of the characters describes Richard E Grant\\'s character as \"a whining little turd\" and unfortunately this sums him up perfectly. There is nothing about him or his performance to make it credible that his girlfriend and upper-class publisher/friend would spend so much time and emotional effort on him. He is rude, arrogant, selfish, self-destructive and thoroughly annoying. The part called for an actor who can make you love him even when he is being a prate - a Ewan McGregor, for example.<br /><br />All of the witty satire on the class system etc was wasted, thanks to this irritating and thoroughly unlikeable performance. All I wanted to do was shake him and tell him to get over himself.'\n",
            "Round-trip:  in [UNK] of [UNK] work by the supporting actors and an [UNK] script by [UNK] [UNK] this film [UNK] from a [UNK] [UNK] the lack of [UNK] of the [UNK] [UNK] one of the characters [UNK] richard [UNK] [UNK] character as a [UNK] little [UNK] and unfortunately this [UNK] him up perfectly there is nothing about him or his performance to make it [UNK] that his [UNK] and [UNK] [UNK] would [UNK] so much time and emotional effort on him he is [UNK] [UNK] [UNK] [UNK] and [UNK] annoying the part called for an actor who can make you love him even when he is being a [UNK] a [UNK] [UNK] for [UNK] br all of the [UNK] [UNK] on the class [UNK] etc was [UNK] [UNK] to this [UNK] and [UNK] [UNK] performance all i wanted to do was [UNK] him and tell him to get over himself                                                                                                                                                                                                                                                                                                                                                                                                                                                                                                                                                                                                                                                                                                                                                                                                                                                                   \n",
            "\n",
            "Original:  b'Absolutely awful movie. Utter waste of time.<br /><br />background music is so loud that you cannot understand speech. Well if you really listen closely, whatever they speak is actually unintelligible.<br /><br />Camera work is bad, editing is not present, background score gives a headache, action is shoddy, dialogs are unintelligible, Acting is abysmal and well Kareena used to look like a wrestler, now she looks like a starved wrestler. Hell you can slim down but you cannot gain grace.<br /><br />After spending three hours watching a movie I want to like it, but this movie would not even allow me that pleasure. <br /><br />Please if you want to torture yourself, go ahead watch this.'\n",
            "Round-trip:  absolutely awful movie [UNK] waste of [UNK] br background music is so [UNK] that you cannot understand [UNK] well if you really [UNK] [UNK] whatever they [UNK] is actually [UNK] br camera work is bad editing is not present background score gives a [UNK] action is [UNK] [UNK] are [UNK] acting is [UNK] and well [UNK] used to look like a [UNK] now she looks like a [UNK] [UNK] hell you can [UNK] down but you cannot [UNK] [UNK] br after [UNK] three hours watching a movie i want to like it but this movie would not even [UNK] me that [UNK] br br please if you want to [UNK] yourself go [UNK] watch this                                                                                                                                                                                                                                                                                                                                                                                                                                                                                                                                                                                                                                                                                                                                                                                                                                                                                                     \n",
            "\n",
            "Original:  b\"A somewhat dull made for tv movie which premiered on the TBS cable station. Antonio and Janine run around chasing a killer computer virus and...that's about it. For trivia buffs this will be noted as debuting the same weekend that the real life 'Melissa' virus also made it's debut in e-mail inboxes across the world.\"\n",
            "Round-trip:  a somewhat dull made for tv movie which [UNK] on the [UNK] [UNK] [UNK] [UNK] and [UNK] run around [UNK] a killer [UNK] [UNK] [UNK] about it for [UNK] [UNK] this will be [UNK] as [UNK] the same [UNK] that the real life [UNK] [UNK] also made its [UNK] in [UNK] [UNK] across the world                                                                                                                                                                                                                                                                                                                                                                                                                                                                                                                                                                                                                                                                                                                                                                                                                                                                                                                                                                 \n",
            "\n"
          ]
        }
      ]
    },
    {
      "cell_type": "markdown",
      "source": [
        "buat model"
      ],
      "metadata": {
        "id": "TRInfehtKbSV"
      }
    },
    {
      "cell_type": "code",
      "source": [
        "model = tf.keras.Sequential([\n",
        "    encoder,\n",
        "    tf.keras.layers.Embedding(\n",
        "        input_dim=len(encoder.get_vocabulary()),\n",
        "        output_dim=64,\n",
        "        # Use masking to handle the variable sequence lengths\n",
        "        mask_zero=True),\n",
        "    tf.keras.layers.Bidirectional(tf.keras.layers.LSTM(64)),\n",
        "    tf.keras.layers.Dense(64, activation='relu'),\n",
        "    tf.keras.layers.Dense(1)\n",
        "])"
      ],
      "metadata": {
        "id": "Jt8VhRc1KeGy"
      },
      "execution_count": null,
      "outputs": []
    },
    {
      "cell_type": "code",
      "source": [
        "print([layer.supports_masking for layer in model.layers])"
      ],
      "metadata": {
        "colab": {
          "base_uri": "https://localhost:8080/"
        },
        "id": "bIebie1RKmBu",
        "outputId": "f041123c-6d6a-493d-f35b-66bffb5009f5"
      },
      "execution_count": null,
      "outputs": [
        {
          "output_type": "stream",
          "name": "stdout",
          "text": [
            "[False, True, True, True, True]\n"
          ]
        }
      ]
    },
    {
      "cell_type": "code",
      "source": [
        "# predict on a sample text without padding.\n",
        "\n",
        "sample_text = ('The movie was cool. The animation and the graphics '\n",
        "               'were out of this world. I would recommend this movie.')\n",
        "predictions = model.predict(np.array([sample_text]))\n",
        "print(predictions[0])"
      ],
      "metadata": {
        "colab": {
          "base_uri": "https://localhost:8080/"
        },
        "id": "1lqAFG5eKvnw",
        "outputId": "d24ffb00-647e-49ca-ef0f-c6f417e5f705"
      },
      "execution_count": null,
      "outputs": [
        {
          "output_type": "stream",
          "name": "stdout",
          "text": [
            "1/1 [==============================] - 8s 8s/step\n",
            "[0.00337225]\n"
          ]
        }
      ]
    },
    {
      "cell_type": "code",
      "source": [
        "# predict on a sample text with padding\n",
        "\n",
        "padding = \"the \" * 2000\n",
        "predictions = model.predict(np.array([sample_text, padding]))\n",
        "print(predictions[0])"
      ],
      "metadata": {
        "colab": {
          "base_uri": "https://localhost:8080/"
        },
        "id": "xSAC0-MzK0h7",
        "outputId": "9458da41-830d-4ab4-fe20-96a12a95d6bc"
      },
      "execution_count": null,
      "outputs": [
        {
          "output_type": "stream",
          "name": "stdout",
          "text": [
            "1/1 [==============================] - 0s 61ms/step\n",
            "[0.00337225]\n"
          ]
        }
      ]
    },
    {
      "cell_type": "code",
      "source": [
        "model.compile(loss=tf.keras.losses.BinaryCrossentropy(from_logits=True),\n",
        "              optimizer=tf.keras.optimizers.Adam(1e-4),\n",
        "              metrics=['accuracy'])"
      ],
      "metadata": {
        "id": "WFK14BSNK2-1"
      },
      "execution_count": null,
      "outputs": []
    },
    {
      "cell_type": "markdown",
      "source": [
        "train model"
      ],
      "metadata": {
        "id": "WC334n7pK7NK"
      }
    },
    {
      "cell_type": "code",
      "source": [
        "history = model.fit(train_dataset, epochs=10, validation_data=test_dataset, validation_steps=30)"
      ],
      "metadata": {
        "colab": {
          "base_uri": "https://localhost:8080/"
        },
        "id": "RXerg5zgK8lu",
        "outputId": "6896af93-4ca6-4fad-b9e3-4439fd907213"
      },
      "execution_count": null,
      "outputs": [
        {
          "output_type": "stream",
          "name": "stdout",
          "text": [
            "Epoch 1/10\n",
            "391/391 [==============================] - 49s 101ms/step - loss: 0.6452 - accuracy: 0.5622 - val_loss: 0.4684 - val_accuracy: 0.7823\n",
            "Epoch 2/10\n",
            "391/391 [==============================] - 28s 72ms/step - loss: 0.4213 - accuracy: 0.8000 - val_loss: 0.3846 - val_accuracy: 0.8182\n",
            "Epoch 3/10\n",
            "391/391 [==============================] - 26s 67ms/step - loss: 0.3522 - accuracy: 0.8460 - val_loss: 0.3537 - val_accuracy: 0.8484\n",
            "Epoch 4/10\n",
            "391/391 [==============================] - 26s 66ms/step - loss: 0.3279 - accuracy: 0.8563 - val_loss: 0.3362 - val_accuracy: 0.8505\n",
            "Epoch 5/10\n",
            "391/391 [==============================] - 26s 66ms/step - loss: 0.3141 - accuracy: 0.8634 - val_loss: 0.3522 - val_accuracy: 0.8286\n",
            "Epoch 6/10\n",
            "391/391 [==============================] - 27s 69ms/step - loss: 0.3107 - accuracy: 0.8667 - val_loss: 0.3270 - val_accuracy: 0.8604\n",
            "Epoch 7/10\n",
            "391/391 [==============================] - 25s 64ms/step - loss: 0.3026 - accuracy: 0.8710 - val_loss: 0.3348 - val_accuracy: 0.8385\n",
            "Epoch 8/10\n",
            "391/391 [==============================] - 24s 62ms/step - loss: 0.3009 - accuracy: 0.8721 - val_loss: 0.3217 - val_accuracy: 0.8552\n",
            "Epoch 9/10\n",
            "391/391 [==============================] - 25s 64ms/step - loss: 0.2995 - accuracy: 0.8711 - val_loss: 0.3217 - val_accuracy: 0.8599\n",
            "Epoch 10/10\n",
            "391/391 [==============================] - 26s 67ms/step - loss: 0.2975 - accuracy: 0.8720 - val_loss: 0.3203 - val_accuracy: 0.8516\n"
          ]
        }
      ]
    },
    {
      "cell_type": "code",
      "source": [
        "test_loss, test_acc = model.evaluate(test_dataset)\n",
        "\n",
        "print('Test Loss:', test_loss)\n",
        "print('Test Accuracy:', test_acc)"
      ],
      "metadata": {
        "colab": {
          "base_uri": "https://localhost:8080/"
        },
        "id": "Lw_13Jn4LDO4",
        "outputId": "26e48a92-122f-4bac-8803-aa990b2ee724"
      },
      "execution_count": null,
      "outputs": [
        {
          "output_type": "stream",
          "name": "stdout",
          "text": [
            "391/391 [==============================] - 12s 31ms/step - loss: 0.3151 - accuracy: 0.8575\n",
            "Test Loss: 0.3150927722454071\n",
            "Test Accuracy: 0.857479989528656\n"
          ]
        }
      ]
    },
    {
      "cell_type": "code",
      "source": [
        "plt.figure(figsize=(16, 8))\n",
        "plt.subplot(1, 2, 1)\n",
        "plot_graphs(history, 'accuracy')\n",
        "plt.ylim(None, 1)\n",
        "plt.subplot(1, 2, 2)\n",
        "plot_graphs(history, 'loss')\n",
        "plt.ylim(0, None)"
      ],
      "metadata": {
        "colab": {
          "base_uri": "https://localhost:8080/",
          "height": 719
        },
        "id": "elZVD-r2nTBy",
        "outputId": "adb0b8be-75fc-4324-910f-8b7bde55aed8"
      },
      "execution_count": null,
      "outputs": [
        {
          "output_type": "execute_result",
          "data": {
            "text/plain": [
              "(0.0, 0.6625684142112732)"
            ]
          },
          "metadata": {},
          "execution_count": 21
        },
        {
          "output_type": "display_data",
          "data": {
            "text/plain": [
              "<Figure size 1600x800 with 2 Axes>"
            ],
            "image/png": "[encoded data removed]"
          },
          "metadata": {}
        }
      ]
    },
    {
      "cell_type": "code",
      "source": [
        "sample_text = ('The movie was cool. The animation and the graphics ''were out of this world. I would recommend this movie.')\n",
        "predictions = model.predict(np.array([sample_text]))"
      ],
      "metadata": {
        "colab": {
          "base_uri": "https://localhost:8080/"
        },
        "id": "pqV6S-zRnXAB",
        "outputId": "7a74d834-afd5-4831-804b-88fb90275f11"
      },
      "execution_count": null,
      "outputs": [
        {
          "output_type": "stream",
          "name": "stdout",
          "text": [
            "1/1 [==============================] - 2s 2s/step\n"
          ]
        }
      ]
    },
    {
      "cell_type": "markdown",
      "source": [
        "stack two or more LSTM layers"
      ],
      "metadata": {
        "id": "_yxUKqQznfgH"
      }
    },
    {
      "cell_type": "code",
      "source": [
        "model = tf.keras.Sequential([encoder,\n",
        "  tf.keras.layers.Embedding(len(encoder.get_vocabulary()), 64, mask_zero=True),\n",
        "  tf.keras.layers.Bidirectional(tf.keras.layers.LSTM(64, return_sequences=True)),\n",
        "  tf.keras.layers.Bidirectional(tf.keras.layers.LSTM(32)),\n",
        "  tf.keras.layers.Dense(64, activation='relu'),\n",
        "  tf.keras.layers.Dropout(0.5),\n",
        "  tf.keras.layers.Dense(1)\n",
        "])"
      ],
      "metadata": {
        "id": "fK55s7pzndGl"
      },
      "execution_count": null,
      "outputs": []
    },
    {
      "cell_type": "code",
      "source": [
        "model.compile(loss=tf.keras.losses.BinaryCrossentropy(from_logits=True),\n",
        "optimizer=tf.keras.optimizers.Adam(1e-4),\n",
        "metrics=['accuracy'])"
      ],
      "metadata": {
        "id": "gDgEbc45n4ET"
      },
      "execution_count": null,
      "outputs": []
    },
    {
      "cell_type": "code",
      "source": [
        "history = model.fit(train_dataset, epochs=10,\n",
        " validation_data=test_dataset,\n",
        " validation_steps=30)"
      ],
      "metadata": {
        "colab": {
          "base_uri": "https://localhost:8080/"
        },
        "id": "CZmWSIJEoLp_",
        "outputId": "c36b0243-ecf4-4eb7-e316-836fb3152265"
      },
      "execution_count": null,
      "outputs": [
        {
          "output_type": "stream",
          "name": "stdout",
          "text": [
            "Epoch 1/10\n",
            "391/391 [==============================] - 82s 159ms/step - loss: 0.6338 - accuracy: 0.5771 - val_loss: 0.4802 - val_accuracy: 0.7333\n",
            "Epoch 2/10\n",
            "391/391 [==============================] - 46s 118ms/step - loss: 0.3914 - accuracy: 0.8280 - val_loss: 0.3721 - val_accuracy: 0.8464\n",
            "Epoch 3/10\n",
            "391/391 [==============================] - 46s 117ms/step - loss: 0.3442 - accuracy: 0.8518 - val_loss: 0.3428 - val_accuracy: 0.8547\n",
            "Epoch 4/10\n",
            "391/391 [==============================] - 45s 116ms/step - loss: 0.3199 - accuracy: 0.8637 - val_loss: 0.3332 - val_accuracy: 0.8432\n",
            "Epoch 5/10\n",
            "391/391 [==============================] - 47s 119ms/step - loss: 0.3147 - accuracy: 0.8660 - val_loss: 0.3204 - val_accuracy: 0.8562\n",
            "Epoch 6/10\n",
            "391/391 [==============================] - 47s 121ms/step - loss: 0.3039 - accuracy: 0.8698 - val_loss: 0.3178 - val_accuracy: 0.8542\n",
            "Epoch 7/10\n",
            "391/391 [==============================] - 47s 120ms/step - loss: 0.3011 - accuracy: 0.8720 - val_loss: 0.3166 - val_accuracy: 0.8562\n",
            "Epoch 8/10\n",
            "391/391 [==============================] - 49s 125ms/step - loss: 0.2987 - accuracy: 0.8704 - val_loss: 0.3143 - val_accuracy: 0.8589\n",
            "Epoch 9/10\n",
            "391/391 [==============================] - 47s 119ms/step - loss: 0.2942 - accuracy: 0.8743 - val_loss: 0.3269 - val_accuracy: 0.8630\n",
            "Epoch 10/10\n",
            "391/391 [==============================] - 50s 128ms/step - loss: 0.2902 - accuracy: 0.8752 - val_loss: 0.3135 - val_accuracy: 0.8615\n"
          ]
        }
      ]
    },
    {
      "cell_type": "code",
      "source": [
        "test_loss, test_acc = model.evaluate(test_dataset)\n",
        "\n",
        "print('Test Loss:', test_loss)\n",
        "print('Test Accuracy:', test_acc)"
      ],
      "metadata": {
        "colab": {
          "base_uri": "https://localhost:8080/"
        },
        "id": "9xOXRpP-xqDy",
        "outputId": "b577020c-2d03-4fb0-f888-134f61db72d4"
      },
      "execution_count": null,
      "outputs": [
        {
          "output_type": "stream",
          "name": "stdout",
          "text": [
            "391/391 [==============================] - 20s 50ms/step - loss: 0.3150 - accuracy: 0.8606\n",
            "Test Loss: 0.31500980257987976\n",
            "Test Accuracy: 0.8605999946594238\n"
          ]
        }
      ]
    },
    {
      "cell_type": "code",
      "source": [
        "# predict on a sample text without padding.\n",
        "\n",
        "sample_text = ('The movie was not good. The animation and the graphics ''were terrible. I would not recommend this movie.')\n",
        "predictions = model.predict(np.array([sample_text]))\n",
        "print(predictions)"
      ],
      "metadata": {
        "colab": {
          "base_uri": "https://localhost:8080/"
        },
        "id": "b0AOciMbxxEc",
        "outputId": "dfdc0eef-7a4f-438f-c4f6-2c96fcec9dd6"
      },
      "execution_count": null,
      "outputs": [
        {
          "output_type": "stream",
          "name": "stdout",
          "text": [
            "1/1 [==============================] - 6s 6s/step\n",
            "[[-1.6955893]]\n"
          ]
        }
      ]
    },
    {
      "cell_type": "code",
      "source": [
        "plt.figure(figsize=(16, 6))\n",
        "plt.subplot(1, 2, 1)\n",
        "plot_graphs(history, 'accuracy')\n",
        "plt.subplot(1, 2, 2)\n",
        "plot_graphs(history, 'loss')"
      ],
      "metadata": {
        "colab": {
          "base_uri": "https://localhost:8080/",
          "height": 546
        },
        "id": "c0WLLZ9Mx1VE",
        "outputId": "e442d818-ff55-4c18-dab6-ff89c25e347a"
      },
      "execution_count": null,
      "outputs": [
        {
          "output_type": "display_data",
          "data": {
            "text/plain": [
              "<Figure size 1600x600 with 2 Axes>"
            ],
            "image/png": "[encoded data removed]"
          },
          "metadata": {}
        }
      ]
    },
    {
      "cell_type": "markdown",
      "source": [
        "PRAKTIKUM 2"
      ],
      "metadata": {
        "id": "aX8II5u8x3ly"
      }
    },
    {
      "cell_type": "code",
      "source": [
        "import tensorflow as tf\n",
        "import numpy as np\n",
        "import os\n",
        "import time"
      ],
      "metadata": {
        "id": "-ezHyzHWx5Ks"
      },
      "execution_count": null,
      "outputs": []
    },
    {
      "cell_type": "markdown",
      "source": [
        "download dataset shakespeare"
      ],
      "metadata": {
        "id": "qylvR39ryRf2"
      }
    },
    {
      "cell_type": "code",
      "source": [
        "path_to_file = tf.keras.utils.get_file('shakespeare.txt', 'https://storage.googleapis.com/download.tensorflow.org/data/shakespeare.txt')"
      ],
      "metadata": {
        "colab": {
          "base_uri": "https://localhost:8080/"
        },
        "id": "5TROgVsDx-iA",
        "outputId": "3bd64a1b-0721-48c1-905b-510fc28eb832"
      },
      "execution_count": null,
      "outputs": [
        {
          "output_type": "stream",
          "name": "stdout",
          "text": [
            "Downloading data from https://storage.googleapis.com/download.tensorflow.org/data/shakespeare.txt\n",
            "1115394/1115394 [==============================] - 0s 0us/step\n"
          ]
        }
      ]
    },
    {
      "cell_type": "markdown",
      "source": [
        "Load Data"
      ],
      "metadata": {
        "id": "VohlrYIKyOmP"
      }
    },
    {
      "cell_type": "code",
      "source": [
        "# Read, then decode for py2 compat.\n",
        "text = open(path_to_file, 'rb').read().decode(encoding='utf-8')\n",
        "# length of text is the number of characters in it\n",
        "print(f'Length of text: {len(text)} characters')"
      ],
      "metadata": {
        "colab": {
          "base_uri": "https://localhost:8080/"
        },
        "id": "4KhxMSKpyKb9",
        "outputId": "c828418d-fe23-4228-e523-329bd87be975"
      },
      "execution_count": null,
      "outputs": [
        {
          "output_type": "stream",
          "name": "stdout",
          "text": [
            "Length of text: 1115394 characters\n"
          ]
        }
      ]
    },
    {
      "cell_type": "code",
      "source": [
        "# Take a look at the first 250 characters in text\n",
        "print(text[:250])"
      ],
      "metadata": {
        "colab": {
          "base_uri": "https://localhost:8080/"
        },
        "id": "SHZNJFjcyMRY",
        "outputId": "90764828-835f-4c34-e262-41c2fcedc9fb"
      },
      "execution_count": null,
      "outputs": [
        {
          "output_type": "stream",
          "name": "stdout",
          "text": [
            "First Citizen:\n",
            "Before we proceed any further, hear me speak.\n",
            "\n",
            "All:\n",
            "Speak, speak.\n",
            "\n",
            "First Citizen:\n",
            "You are all resolved rather to die than to famish?\n",
            "\n",
            "All:\n",
            "Resolved. resolved.\n",
            "\n",
            "First Citizen:\n",
            "First, you know Caius Marcius is chief enemy to the people.\n",
            "\n"
          ]
        }
      ]
    },
    {
      "cell_type": "code",
      "source": [
        "# The unique characters in the file\n",
        "vocab = sorted(set(text))\n",
        "print(f'{len(vocab)} unique characters')"
      ],
      "metadata": {
        "colab": {
          "base_uri": "https://localhost:8080/"
        },
        "id": "E0vqFeDMyWKF",
        "outputId": "c7492ce7-e692-418b-8763-daa47a49d921"
      },
      "execution_count": null,
      "outputs": [
        {
          "output_type": "stream",
          "name": "stdout",
          "text": [
            "65 unique characters\n"
          ]
        }
      ]
    },
    {
      "cell_type": "markdown",
      "source": [
        "olah teks"
      ],
      "metadata": {
        "id": "CV0TUBUqyZOK"
      }
    },
    {
      "cell_type": "code",
      "source": [
        "example_texts = ['abcdefg', 'xyz']\n",
        "chars = tf.strings.unicode_split(example_texts, input_encoding ='UTF-8')\n",
        "chars"
      ],
      "metadata": {
        "colab": {
          "base_uri": "https://localhost:8080/"
        },
        "id": "d2lmGTQnybqY",
        "outputId": "07fdb4fc-0dbc-463d-f81a-047ad982aafb"
      },
      "execution_count": null,
      "outputs": [
        {
          "output_type": "execute_result",
          "data": {
            "text/plain": [
              "<tf.RaggedTensor [[b'a', b'b', b'c', b'd', b'e', b'f', b'g'], [b'x', b'y', b'z']]>"
            ]
          },
          "metadata": {},
          "execution_count": 34
        }
      ]
    },
    {
      "cell_type": "code",
      "source": [
        "ids_from_chars = tf.keras.layers.StringLookup(vocabulary=list(vocab), mask_token=None)"
      ],
      "metadata": {
        "id": "m6KEH3sdzAY9"
      },
      "execution_count": null,
      "outputs": []
    },
    {
      "cell_type": "code",
      "source": [
        "ids = ids_from_chars(chars)\n",
        "ids"
      ],
      "metadata": {
        "colab": {
          "base_uri": "https://localhost:8080/"
        },
        "id": "IcPNnEgmzIFm",
        "outputId": "a558f24c-70c9-40ab-e520-8358cb4c02ec"
      },
      "execution_count": null,
      "outputs": [
        {
          "output_type": "execute_result",
          "data": {
            "text/plain": [
              "<tf.RaggedTensor [[40, 41, 42, 43, 44, 45, 46], [63, 64, 65]]>"
            ]
          },
          "metadata": {},
          "execution_count": 36
        }
      ]
    },
    {
      "cell_type": "code",
      "source": [
        "chars_from_ids = tf.keras.layers.StringLookup(\n",
        "    vocabulary=ids_from_chars.get_vocabulary(), invert=True, mask_token=None)"
      ],
      "metadata": {
        "id": "sK7e0-sQzOl2"
      },
      "execution_count": null,
      "outputs": []
    },
    {
      "cell_type": "code",
      "source": [
        "chars = chars_from_ids(ids)\n",
        "chars"
      ],
      "metadata": {
        "colab": {
          "base_uri": "https://localhost:8080/"
        },
        "id": "GgSURhVpzTBs",
        "outputId": "4a22b446-bf81-441e-f27e-7b09bede38a9"
      },
      "execution_count": null,
      "outputs": [
        {
          "output_type": "execute_result",
          "data": {
            "text/plain": [
              "<tf.RaggedTensor [[b'a', b'b', b'c', b'd', b'e', b'f', b'g'], [b'x', b'y', b'z']]>"
            ]
          },
          "metadata": {},
          "execution_count": 38
        }
      ]
    },
    {
      "cell_type": "code",
      "source": [
        "tf.strings.reduce_join(chars, axis=-1).numpy()"
      ],
      "metadata": {
        "colab": {
          "base_uri": "https://localhost:8080/"
        },
        "id": "yk7K78U8zZJa",
        "outputId": "d163f233-8f49-4a15-f977-465469d15a10"
      },
      "execution_count": null,
      "outputs": [
        {
          "output_type": "execute_result",
          "data": {
            "text/plain": [
              "array([b'abcdefg', b'xyz'], dtype=object)"
            ]
          },
          "metadata": {},
          "execution_count": 39
        }
      ]
    },
    {
      "cell_type": "code",
      "source": [
        "def text_from_ids(ids):\n",
        "  return tf.strings.reduce_join(chars_from_ids(ids), axis=-1)"
      ],
      "metadata": {
        "id": "quK5r1M9zbdF"
      },
      "execution_count": null,
      "outputs": []
    },
    {
      "cell_type": "markdown",
      "source": [
        "prediksi"
      ],
      "metadata": {
        "id": "OD73pgfuzioL"
      }
    },
    {
      "cell_type": "code",
      "source": [
        "all_ids = ids_from_chars(tf.strings.unicode_split(text, 'UTF-8'))\n",
        "all_ids"
      ],
      "metadata": {
        "colab": {
          "base_uri": "https://localhost:8080/"
        },
        "id": "9iTxBcoXzhMe",
        "outputId": "8d009ce1-0e18-43ab-b83b-bbe1907b0bea"
      },
      "execution_count": null,
      "outputs": [
        {
          "output_type": "execute_result",
          "data": {
            "text/plain": [
              "<tf.Tensor: shape=(1115394,), dtype=int64, numpy=array([19, 48, 57, ..., 46,  9,  1])>"
            ]
          },
          "metadata": {},
          "execution_count": 41
        }
      ]
    },
    {
      "cell_type": "code",
      "source": [
        "ids_dataset = tf.data.Dataset.from_tensor_slices(all_ids)"
      ],
      "metadata": {
        "id": "5PxUR0aWznno"
      },
      "execution_count": null,
      "outputs": []
    },
    {
      "cell_type": "code",
      "source": [
        "for ids in ids_dataset.take(10):\n",
        "  print(chars_from_ids(ids).numpy().decode('utf-8'))"
      ],
      "metadata": {
        "colab": {
          "base_uri": "https://localhost:8080/"
        },
        "id": "7YchEQsOzp1L",
        "outputId": "20be8a40-ef8c-4685-fda6-fa90407ee7ed"
      },
      "execution_count": null,
      "outputs": [
        {
          "output_type": "stream",
          "name": "stdout",
          "text": [
            "F\n",
            "i\n",
            "r\n",
            "s\n",
            "t\n",
            " \n",
            "C\n",
            "i\n",
            "t\n",
            "i\n"
          ]
        }
      ]
    },
    {
      "cell_type": "code",
      "source": [
        "seq_length = 100"
      ],
      "metadata": {
        "id": "_p5TyvM9zv3D"
      },
      "execution_count": null,
      "outputs": []
    },
    {
      "cell_type": "code",
      "source": [
        "sequences = ids_dataset.batch(seq_length+1, drop_remainder=True)\n",
        "\n",
        "for seq in sequences.take(1):\n",
        "  print(chars_from_ids(seq))"
      ],
      "metadata": {
        "colab": {
          "base_uri": "https://localhost:8080/"
        },
        "id": "dzrgDhwGzxoj",
        "outputId": "d0bbf350-e8b7-40df-b2f8-be00287e843a"
      },
      "execution_count": null,
      "outputs": [
        {
          "output_type": "stream",
          "name": "stdout",
          "text": [
            "tf.Tensor(\n",
            "[b'F' b'i' b'r' b's' b't' b' ' b'C' b'i' b't' b'i' b'z' b'e' b'n' b':'\n",
            " b'\\n' b'B' b'e' b'f' b'o' b'r' b'e' b' ' b'w' b'e' b' ' b'p' b'r' b'o'\n",
            " b'c' b'e' b'e' b'd' b' ' b'a' b'n' b'y' b' ' b'f' b'u' b'r' b't' b'h'\n",
            " b'e' b'r' b',' b' ' b'h' b'e' b'a' b'r' b' ' b'm' b'e' b' ' b's' b'p'\n",
            " b'e' b'a' b'k' b'.' b'\\n' b'\\n' b'A' b'l' b'l' b':' b'\\n' b'S' b'p' b'e'\n",
            " b'a' b'k' b',' b' ' b's' b'p' b'e' b'a' b'k' b'.' b'\\n' b'\\n' b'F' b'i'\n",
            " b'r' b's' b't' b' ' b'C' b'i' b't' b'i' b'z' b'e' b'n' b':' b'\\n' b'Y'\n",
            " b'o' b'u' b' '], shape=(101,), dtype=string)\n"
          ]
        }
      ]
    },
    {
      "cell_type": "code",
      "source": [
        "for seq in sequences.take(5):\n",
        "  print(text_from_ids(seq).numpy())"
      ],
      "metadata": {
        "colab": {
          "base_uri": "https://localhost:8080/"
        },
        "id": "tI8Ge6jyz0Nz",
        "outputId": "626ef7a0-6463-4179-80aa-6702047116fa"
      },
      "execution_count": null,
      "outputs": [
        {
          "output_type": "stream",
          "name": "stdout",
          "text": [
            "b'First Citizen:\\nBefore we proceed any further, hear me speak.\\n\\nAll:\\nSpeak, speak.\\n\\nFirst Citizen:\\nYou '\n",
            "b'are all resolved rather to die than to famish?\\n\\nAll:\\nResolved. resolved.\\n\\nFirst Citizen:\\nFirst, you k'\n",
            "b\"now Caius Marcius is chief enemy to the people.\\n\\nAll:\\nWe know't, we know't.\\n\\nFirst Citizen:\\nLet us ki\"\n",
            "b\"ll him, and we'll have corn at our own price.\\nIs't a verdict?\\n\\nAll:\\nNo more talking on't; let it be d\"\n",
            "b'one: away, away!\\n\\nSecond Citizen:\\nOne word, good citizens.\\n\\nFirst Citizen:\\nWe are accounted poor citi'\n"
          ]
        }
      ]
    },
    {
      "cell_type": "code",
      "source": [
        "def split_input_target(sequence):\n",
        "  input_text = sequence[:-1]\n",
        "  target_text = sequence[1:]\n",
        "  return input_text, target_text"
      ],
      "metadata": {
        "id": "E65khMQdz5LU"
      },
      "execution_count": null,
      "outputs": []
    },
    {
      "cell_type": "code",
      "source": [
        "split_input_target(list(\"Tensorflow\"))"
      ],
      "metadata": {
        "colab": {
          "base_uri": "https://localhost:8080/"
        },
        "id": "Dk-zsSbR0GJ2",
        "outputId": "2099ed5d-ba03-42b9-feeb-27e3348c870d"
      },
      "execution_count": null,
      "outputs": [
        {
          "output_type": "execute_result",
          "data": {
            "text/plain": [
              "(['T', 'e', 'n', 's', 'o', 'r', 'f', 'l', 'o'],\n",
              " ['e', 'n', 's', 'o', 'r', 'f', 'l', 'o', 'w'])"
            ]
          },
          "metadata": {},
          "execution_count": 48
        }
      ]
    },
    {
      "cell_type": "code",
      "source": [
        "dataset = sequences.map(split_input_target)"
      ],
      "metadata": {
        "id": "IacrNCh-0IeB"
      },
      "execution_count": null,
      "outputs": []
    },
    {
      "cell_type": "code",
      "source": [
        "for input_example, target_example in dataset.take(1):\n",
        "  print(\"Input :\", text_from_ids(input_example).numpy())\n",
        "  print(\"Target:\", text_from_ids(target_example).numpy())"
      ],
      "metadata": {
        "colab": {
          "base_uri": "https://localhost:8080/"
        },
        "id": "ZA49gG220MAk",
        "outputId": "5146221a-94fa-4586-a2e8-ef9d4a9ce9f5"
      },
      "execution_count": null,
      "outputs": [
        {
          "output_type": "stream",
          "name": "stdout",
          "text": [
            "Input : b'First Citizen:\\nBefore we proceed any further, hear me speak.\\n\\nAll:\\nSpeak, speak.\\n\\nFirst Citizen:\\nYou'\n",
            "Target: b'irst Citizen:\\nBefore we proceed any further, hear me speak.\\n\\nAll:\\nSpeak, speak.\\n\\nFirst Citizen:\\nYou '\n"
          ]
        }
      ]
    },
    {
      "cell_type": "markdown",
      "source": [
        "membuat batch training"
      ],
      "metadata": {
        "id": "eFfjVKuv0Wgy"
      }
    },
    {
      "cell_type": "code",
      "source": [
        "# Batch size\n",
        "BATCH_SIZE = 64\n",
        "\n",
        "# Buffer size to shuffle the dataset\n",
        "# (TF data is designed to work with possibly infinite sequences,\n",
        "# so it doesn't attempt to shuffle the entire sequence in memory. Instead,\n",
        "# it maintains a buffer in which it shuffles elements).\n",
        "BUFFER_SIZE = 10000\n",
        "\n",
        "dataset = (\n",
        "    dataset\n",
        "    .shuffle(BUFFER_SIZE)\n",
        "    .batch(BATCH_SIZE, drop_remainder=True)\n",
        "    .prefetch(tf.data.experimental.AUTOTUNE))\n",
        "\n",
        "dataset"
      ],
      "metadata": {
        "colab": {
          "base_uri": "https://localhost:8080/"
        },
        "id": "Us82mYfn0VCk",
        "outputId": "92efbc74-03a7-46f0-9ca0-b4a3692a2e21"
      },
      "execution_count": null,
      "outputs": [
        {
          "output_type": "execute_result",
          "data": {
            "text/plain": [
              "<_PrefetchDataset element_spec=(TensorSpec(shape=(64, 100), dtype=tf.int64, name=None), TensorSpec(shape=(64, 100), dtype=tf.int64, name=None))>"
            ]
          },
          "metadata": {},
          "execution_count": 51
        }
      ]
    },
    {
      "cell_type": "markdown",
      "source": [
        "buat model"
      ],
      "metadata": {
        "id": "FVPc4H8P3OW-"
      }
    },
    {
      "cell_type": "code",
      "source": [
        "# Length of the vocabulary in StringLookup Layer\n",
        "vocab_size = len(ids_from_chars.get_vocabulary())\n",
        "\n",
        "# The embedding dimension\n",
        "embedding_dim = 256\n",
        "\n",
        "# Number of RNN units\n",
        "rnn_units = 1024"
      ],
      "metadata": {
        "id": "BwRUoeHp1-FO"
      },
      "execution_count": null,
      "outputs": []
    },
    {
      "cell_type": "code",
      "source": [
        "class MyModel(tf.keras.Model):\n",
        "  def __init__(self, vocab_size, embedding_dim, rnn_units):\n",
        "    super().__init__(self)\n",
        "    self.embedding = tf.keras.layers.Embedding(vocab_size, embedding_dim)\n",
        "    self.gru = tf.keras.layers.GRU(rnn_units,\n",
        "                                   return_sequences=True,\n",
        "                                   return_state=True)\n",
        "    self.dense = tf.keras.layers.Dense(vocab_size)\n",
        "\n",
        "  def call(self, inputs, states=None, return_state=False, training=False):\n",
        "    x = inputs\n",
        "    x = self.embedding(x, training=training)\n",
        "    if states is None:\n",
        "      states = self.gru.get_initial_state(x)\n",
        "    x, states = self.gru(x, initial_state=states, training=training)\n",
        "    x = self.dense(x, training=training)\n",
        "\n",
        "    if return_state:\n",
        "      return x, states\n",
        "    else:\n",
        "      return x"
      ],
      "metadata": {
        "id": "gVnJYkYS3R2g"
      },
      "execution_count": null,
      "outputs": []
    },
    {
      "cell_type": "code",
      "source": [
        "model = MyModel(\n",
        "    vocab_size=vocab_size,\n",
        "    embedding_dim=embedding_dim,\n",
        "    rnn_units=rnn_units)"
      ],
      "metadata": {
        "id": "_thQcHzb3WSi"
      },
      "execution_count": null,
      "outputs": []
    },
    {
      "cell_type": "markdown",
      "source": [
        "uji model"
      ],
      "metadata": {
        "id": "Pm5gmXLY3aT1"
      }
    },
    {
      "cell_type": "code",
      "source": [
        "for input_example_batch, target_example_batch in dataset.take(1):\n",
        "    example_batch_predictions = model(input_example_batch)\n",
        "    print(example_batch_predictions.shape, \"# (batch_size, sequence_length, vocab_size)\")"
      ],
      "metadata": {
        "colab": {
          "base_uri": "https://localhost:8080/"
        },
        "id": "ijtTiMBA3cZP",
        "outputId": "791b326f-2e7d-431c-8382-f42f8cfcb536"
      },
      "execution_count": null,
      "outputs": [
        {
          "output_type": "stream",
          "name": "stdout",
          "text": [
            "(64, 100, 66) # (batch_size, sequence_length, vocab_size)\n"
          ]
        }
      ]
    },
    {
      "cell_type": "code",
      "source": [
        "model.summary()"
      ],
      "metadata": {
        "colab": {
          "base_uri": "https://localhost:8080/"
        },
        "id": "mt_iC0-b3fB9",
        "outputId": "54ba7cf3-d686-45a0-81d3-4af6fe0be117"
      },
      "execution_count": null,
      "outputs": [
        {
          "output_type": "stream",
          "name": "stdout",
          "text": [
            "Model: \"my_model\"\n",
            "_________________________________________________________________\n",
            " Layer (type)                Output Shape              Param #   \n",
            "=================================================================\n",
            " embedding_2 (Embedding)     multiple                  16896     \n",
            "                                                                 \n",
            " gru (GRU)                   multiple                  3938304   \n",
            "                                                                 \n",
            " dense_4 (Dense)             multiple                  67650     \n",
            "                                                                 \n",
            "=================================================================\n",
            "Total params: 4022850 (15.35 MB)\n",
            "Trainable params: 4022850 (15.35 MB)\n",
            "Non-trainable params: 0 (0.00 Byte)\n",
            "_________________________________________________________________\n"
          ]
        }
      ]
    },
    {
      "cell_type": "code",
      "source": [
        "sampled_indices = tf.random.categorical(example_batch_predictions[0], num_samples=1)\n",
        "sampled_indices = tf.squeeze(sampled_indices, axis=-1).numpy()"
      ],
      "metadata": {
        "id": "WDpKgT_d3iOG"
      },
      "execution_count": null,
      "outputs": []
    },
    {
      "cell_type": "code",
      "source": [
        "sampled_indices"
      ],
      "metadata": {
        "colab": {
          "base_uri": "https://localhost:8080/"
        },
        "id": "flRUPAcd3sxV",
        "outputId": "6b0453e8-249b-4b78-cbee-911ec09ab433"
      },
      "execution_count": null,
      "outputs": [
        {
          "output_type": "execute_result",
          "data": {
            "text/plain": [
              "array([46, 36, 15, 30, 54,  0, 20, 25, 27,  7, 32, 17, 65, 31, 10, 42,  1,\n",
              "       23, 37, 51, 50,  9,  9, 55,  4, 47, 48, 42, 25, 38, 23, 10, 51, 33,\n",
              "        7, 36,  7, 29, 35, 17, 63, 22, 18, 38, 28,  8, 59, 56,  3, 16, 57,\n",
              "       54, 25, 47, 60, 55, 15, 25, 47, 39,  7, 50,  1, 46,  4, 46, 64, 65,\n",
              "       48, 58, 26, 58,  4, 14, 18, 40, 65,  9, 54, 49, 57, 50, 37, 12, 19,\n",
              "       13, 45, 26, 35, 21, 20, 55,  9, 42, 55, 48, 21, 37, 59, 64])"
            ]
          },
          "metadata": {},
          "execution_count": 58
        }
      ]
    },
    {
      "cell_type": "code",
      "source": [
        "print(\"Input:\\n\", text_from_ids(input_example_batch[0]).numpy())\n",
        "print()\n",
        "print(\"Next Char Predictions:\\n\", text_from_ids(sampled_indices).numpy())"
      ],
      "metadata": {
        "colab": {
          "base_uri": "https://localhost:8080/"
        },
        "id": "eBVja8JQ4MuL",
        "outputId": "539b1f16-7c2b-4b51-ac4f-5ba9a3824cde"
      },
      "execution_count": null,
      "outputs": [
        {
          "output_type": "stream",
          "name": "stdout",
          "text": [
            "Input:\n",
            " b' is so fond\\nTo trust the mockery of unquiet slumbers\\nTo fly the boar before the boar pursues,\\nWere t'\n",
            "\n",
            "Next Char Predictions:\n",
            " b'gWBQo[UNK]GLN,SDzR3c\\nJXlk..p$hicLYJ3lT,W,PVDxIEYO-tq!CroLhupBLhZ,k\\ng$gyzisMs$AEaz.ojrkX;F?fMVHGp.cpiHXty'\n"
          ]
        }
      ]
    },
    {
      "cell_type": "markdown",
      "source": [
        "train model"
      ],
      "metadata": {
        "id": "mojscd-x4bhs"
      }
    },
    {
      "cell_type": "code",
      "source": [
        "loss = tf.losses.SparseCategoricalCrossentropy(from_logits=True)"
      ],
      "metadata": {
        "id": "9WHFyxyZ4agX"
      },
      "execution_count": null,
      "outputs": []
    },
    {
      "cell_type": "code",
      "source": [
        "example_batch_mean_loss = loss(target_example_batch, example_batch_predictions)\n",
        "print(\"Prediction shape: \", example_batch_predictions.shape, \" # (batch_size, sequence_length, vocab_size)\")\n",
        "print(\"Mean loss:        \", example_batch_mean_loss)"
      ],
      "metadata": {
        "colab": {
          "base_uri": "https://localhost:8080/"
        },
        "id": "oqrjMPwn5EMN",
        "outputId": "1d5e84b4-dae4-487b-9c42-c58b2390898a"
      },
      "execution_count": null,
      "outputs": [
        {
          "output_type": "stream",
          "name": "stdout",
          "text": [
            "Prediction shape:  (64, 100, 66)  # (batch_size, sequence_length, vocab_size)\n",
            "Mean loss:         tf.Tensor(4.1905675, shape=(), dtype=float32)\n"
          ]
        }
      ]
    },
    {
      "cell_type": "code",
      "source": [
        "tf.exp(example_batch_mean_loss).numpy()"
      ],
      "metadata": {
        "colab": {
          "base_uri": "https://localhost:8080/"
        },
        "id": "YH3pBeYm5c_1",
        "outputId": "3ccd04dd-9ef7-479a-f5ca-07478edd27df"
      },
      "execution_count": null,
      "outputs": [
        {
          "output_type": "execute_result",
          "data": {
            "text/plain": [
              "66.06027"
            ]
          },
          "metadata": {},
          "execution_count": 62
        }
      ]
    },
    {
      "cell_type": "code",
      "source": [
        "model.compile(optimizer='adam', loss=loss)"
      ],
      "metadata": {
        "id": "VqAAGOXB5euE"
      },
      "execution_count": null,
      "outputs": []
    },
    {
      "cell_type": "code",
      "source": [
        "# Directory where the checkpoints will be saved\n",
        "checkpoint_dir = './training_checkpoints'\n",
        "# Name of the checkpoint files\n",
        "checkpoint_prefix = os.path.join(checkpoint_dir, \"ckpt_{epoch}\")\n",
        "\n",
        "checkpoint_callback = tf.keras.callbacks.ModelCheckpoint(\n",
        "    filepath=checkpoint_prefix,\n",
        "    save_weights_only=True)"
      ],
      "metadata": {
        "id": "0hWkvC_F6hrn"
      },
      "execution_count": null,
      "outputs": []
    },
    {
      "cell_type": "code",
      "source": [
        "EPOCHS = 20"
      ],
      "metadata": {
        "id": "bkdkLGEE6lyW"
      },
      "execution_count": null,
      "outputs": []
    },
    {
      "cell_type": "code",
      "source": [
        "history = model.fit(dataset, epochs=EPOCHS, callbacks=[checkpoint_callback])"
      ],
      "metadata": {
        "colab": {
          "base_uri": "https://localhost:8080/"
        },
        "id": "mwlvn_gE6nzM",
        "outputId": "1aa3bf6f-07af-474b-e1fd-fcf5735ada39"
      },
      "execution_count": null,
      "outputs": [
        {
          "output_type": "stream",
          "name": "stdout",
          "text": [
            "Epoch 1/20\n",
            "172/172 [==============================] - 14s 54ms/step - loss: 2.7050\n",
            "Epoch 2/20\n",
            "172/172 [==============================] - 11s 53ms/step - loss: 1.9881\n",
            "Epoch 3/20\n",
            "172/172 [==============================] - 11s 53ms/step - loss: 1.7057\n",
            "Epoch 4/20\n",
            "172/172 [==============================] - 11s 53ms/step - loss: 1.5442\n",
            "Epoch 5/20\n",
            "172/172 [==============================] - 11s 53ms/step - loss: 1.4461\n",
            "Epoch 6/20\n",
            "172/172 [==============================] - 12s 54ms/step - loss: 1.3788\n",
            "Epoch 7/20\n",
            "172/172 [==============================] - 12s 54ms/step - loss: 1.3265\n",
            "Epoch 8/20\n",
            "172/172 [==============================] - 11s 54ms/step - loss: 1.2819\n",
            "Epoch 9/20\n",
            "172/172 [==============================] - 11s 54ms/step - loss: 1.2409\n",
            "Epoch 10/20\n",
            "172/172 [==============================] - 11s 55ms/step - loss: 1.2014\n",
            "Epoch 11/20\n",
            "172/172 [==============================] - 11s 56ms/step - loss: 1.1617\n",
            "Epoch 12/20\n",
            "172/172 [==============================] - 11s 55ms/step - loss: 1.1202\n",
            "Epoch 13/20\n",
            "172/172 [==============================] - 11s 55ms/step - loss: 1.0764\n",
            "Epoch 14/20\n",
            "172/172 [==============================] - 11s 55ms/step - loss: 1.0308\n",
            "Epoch 15/20\n",
            "172/172 [==============================] - 11s 55ms/step - loss: 0.9824\n",
            "Epoch 16/20\n",
            "172/172 [==============================] - 11s 56ms/step - loss: 0.9324\n",
            "Epoch 17/20\n",
            "172/172 [==============================] - 12s 56ms/step - loss: 0.8805\n",
            "Epoch 18/20\n",
            "172/172 [==============================] - 11s 56ms/step - loss: 0.8279\n",
            "Epoch 19/20\n",
            "172/172 [==============================] - 12s 56ms/step - loss: 0.7785\n",
            "Epoch 20/20\n",
            "172/172 [==============================] - 12s 56ms/step - loss: 0.7291\n"
          ]
        }
      ]
    },
    {
      "cell_type": "markdown",
      "source": [
        "generate teks"
      ],
      "metadata": {
        "id": "uhogIxIN6tFd"
      }
    },
    {
      "cell_type": "code",
      "source": [
        "class OneStep(tf.keras.Model):\n",
        "  def __init__(self, model, chars_from_ids, ids_from_chars, temperature=1.0):\n",
        "    super().__init__()\n",
        "    self.temperature = temperature\n",
        "    self.model = model\n",
        "    self.chars_from_ids = chars_from_ids\n",
        "    self.ids_from_chars = ids_from_chars\n",
        "\n",
        "    # Create a mask to prevent \"[UNK]\" from being generated.\n",
        "    skip_ids = self.ids_from_chars(['[UNK]'])[:, None]\n",
        "    sparse_mask = tf.SparseTensor(\n",
        "        # Put a -inf at each bad index.\n",
        "        values=[-float('inf')]*len(skip_ids),\n",
        "        indices=skip_ids,\n",
        "        # Match the shape to the vocabulary\n",
        "        dense_shape=[len(ids_from_chars.get_vocabulary())])\n",
        "    self.prediction_mask = tf.sparse.to_dense(sparse_mask)\n",
        "\n",
        "  @tf.function\n",
        "  def generate_one_step(self, inputs, states=None):\n",
        "    # Convert strings to token IDs.\n",
        "    input_chars = tf.strings.unicode_split(inputs, 'UTF-8')\n",
        "    input_ids = self.ids_from_chars(input_chars).to_tensor()\n",
        "\n",
        "    # Run the model.\n",
        "    # predicted_logits.shape is [batch, char, next_char_logits]\n",
        "    predicted_logits, states = self.model(inputs=input_ids, states=states,\n",
        "                                          return_state=True)\n",
        "    # Only use the last prediction.\n",
        "    predicted_logits = predicted_logits[:, -1, :]\n",
        "    predicted_logits = predicted_logits/self.temperature\n",
        "    # Apply the prediction mask: prevent \"[UNK]\" from being generated.\n",
        "    predicted_logits = predicted_logits + self.prediction_mask\n",
        "\n",
        "    # Sample the output logits to generate token IDs.\n",
        "    predicted_ids = tf.random.categorical(predicted_logits, num_samples=1)\n",
        "    predicted_ids = tf.squeeze(predicted_ids, axis=-1)\n",
        "\n",
        "    # Convert from token ids to characters\n",
        "    predicted_chars = self.chars_from_ids(predicted_ids)\n",
        "\n",
        "    # Return the characters and model state.\n",
        "    return predicted_chars, states"
      ],
      "metadata": {
        "id": "TJHhZytA6rfr"
      },
      "execution_count": null,
      "outputs": []
    },
    {
      "cell_type": "code",
      "source": [
        "one_step_model = OneStep(model, chars_from_ids, ids_from_chars)"
      ],
      "metadata": {
        "id": "YVddX5II63kl"
      },
      "execution_count": null,
      "outputs": []
    },
    {
      "cell_type": "code",
      "source": [
        "start = time.time()\n",
        "states = None\n",
        "next_char = tf.constant(['ROMEO:'])\n",
        "result = [next_char]\n",
        "\n",
        "for n in range(1000):\n",
        "  next_char, states = one_step_model.generate_one_step(next_char, states=states)\n",
        "  result.append(next_char)\n",
        "\n",
        "result = tf.strings.join(result)\n",
        "end = time.time()\n",
        "print(result[0].numpy().decode('utf-8'), '\\n\\n' + '_'*80)\n",
        "print('\\nRun time:', end - start)"
      ],
      "metadata": {
        "colab": {
          "base_uri": "https://localhost:8080/"
        },
        "id": "v_BN-bhd68eq",
        "outputId": "da80e48f-80a9-412a-ea64-6336b2558b01"
      },
      "execution_count": null,
      "outputs": [
        {
          "output_type": "stream",
          "name": "stdout",
          "text": [
            "ROMEO:\n",
            "My lord, what neither has but join'd to do\n",
            "He tears the envy way of thy news?\n",
            "Where's Birdone Vincentio and his less?\n",
            "\n",
            "DUCHESS OF YORK:\n",
            "No, you and yours are foolish in our marchers,\n",
            "That burn better, sir: I say.\n",
            "\n",
            "GLOUCESTER:\n",
            "Thou fart'st of fairs, sir, by my soul I shall not;\n",
            "A cegtats or else dead like a due as little\n",
            "Gloucester, think o' the people, when he makes forsworn,\n",
            "You, titles, the people see my grief in pomp,\n",
            "Ere furnish'd hath the proclamation of thy brother:\n",
            "Varcius, we'll in one that effect the proves me\n",
            "all perish.\n",
            "\n",
            "First Lord:\n",
            "Sir, at the lovely king, and fit you\n",
            "Shall she beggar her love, from it, that they under-the men;\n",
            "Ahou, Venical, are already of each impediment:\n",
            "With this amounds the invettitute\n",
            "That water to a look and thanks, and rans\n",
            "To roy approbation.\n",
            "\n",
            "Messenger:\n",
            "Ay, therefore thy lapt our knees to use it,\n",
            "Whereso understand that he drezs in thy son\n",
            "Could yet sub-bush and Romeo play?\n",
            "\n",
            "PETRUCHIO:\n",
            "I am bound ere not you a mad at your request,\n",
            "And his abservi \n",
            "\n",
            "________________________________________________________________________________\n",
            "\n",
            "Run time: 4.1733174324035645\n"
          ]
        }
      ]
    },
    {
      "cell_type": "code",
      "source": [
        "start = time.time()\n",
        "states = None\n",
        "next_char = tf.constant(['ROMEO:', 'ROMEO:', 'ROMEO:', 'ROMEO:', 'ROMEO:'])\n",
        "result = [next_char]\n",
        "\n",
        "for n in range(1000):\n",
        "  next_char, states = one_step_model.generate_one_step(next_char, states=states)\n",
        "  result.append(next_char)\n",
        "\n",
        "result = tf.strings.join(result)\n",
        "end = time.time()\n",
        "print(result, '\\n\\n' + '_'*80)\n",
        "print('\\nRun time:', end - start)"
      ],
      "metadata": {
        "colab": {
          "base_uri": "https://localhost:8080/"
        },
        "id": "D6UnYVDD68ZO",
        "outputId": "dd3f830e-ed9a-44a9-cfea-b3d7aa790c6b"
      },
      "execution_count": null,
      "outputs": [
        {
          "output_type": "stream",
          "name": "stdout",
          "text": [
            "tf.Tensor(\n",
            "[b\"ROMEO:\\nMy lord, Meaning the hearing of your buddiness!\\nOf, dear, my gracious lord, here look this isle, no futcher of a sun\\nCan all their own particular thright on his.\\n\\nJULIET:\\nAy, to conceal your pleasure thou art a footman.\\n\\nLADY ANNE:\\nBut shall I not? Shall have the crown?\\n\\nSICINIUS:\\nSon you your honour'd house,\\nBesides the sound of noble place hath made\\nFor-zenture to begone a great natural age,\\nwhom you can with the flow's an quicks of souls?\\n\\nNurse:\\nMy business; we will ask.\\n\\nESCALUS:\\nI shall report your grace is here.\\n\\nGRUMIO:\\nI not look for.\\nI cannot speak, for that your gifts are so\\nOf noble queen and cries 'Romeo's home; and here with the king; and\\n'Clarence, stand up, the Duke of Norfolk:\\nShortly Warwick springs them both; I do beseech the people\\nThey will from thence the rest should be bold.\\n\\nBAPTISTA:\\nHow accords ne traitor?\\n\\nCLAMENCE:\\nOur dead? why, 'Why now?\\n\\nThird Servingman:\\nWhere is your good use.\\n\\nFirst Lord:\\nBesires your father;'\\nProportio's now reverence;\\nThese being so\"\n",
            " b\"ROMEO:\\nThere is what blows: you're adversaries\\nAnd is recorper you, words he is Angright;\\nAnd so it seeming men; yet she is with child\\nIn such a scope for the warther of their hearts.\\n\\nPOLIXENES:\\nFarewell, leads mine.\\n\\nLUCIO:\\nYou perceive?\\n\\nHORTENSIO:\\nYou notted small and look back.\\n\\nMENENIUS:\\nHe's scare, best baled before more\\ntir an instricted traitor,\\nNorthumberland, sir, show you this moved from\\nhanging: if all the seal o' the sea:--patient me\\nIn what can let her confine their infants,--\\nWhat noise the Fourth!' Coriolanus no excomes there\\nMy love adder thus.\\n\\nMOMSA:\\nHe lives not to beating one.\\n\\nPart:\\nBy my holy oath?\\n\\nPAULINA:\\nEre this shortentious Ludia.\\nThey do something their own mistress,\\nConstrains a manchus force up his blestrum in\\nBianca's love to any bloody deeds most part\\nTill I have my wife, and then he hath had\\nnot our toespul than they shall stood my soul,\\nWho loves me banished; that will out return,\\nand the which afternoon of the princely eye appear,\\nLoint as if the world p\"\n",
            " b\"ROMEO:\\nThe slave, where lead thyself and must you?\\nHelce was I ginder.\\n\\nAUTORYCUS:\\nIt shall be there, morely, they shall know your faces.\\nFie, fie, by God's hearing a man divine,\\nWould seek his number sea, and his majesty\\nGood rude bay speak the traitor of this fair mome.\\n\\nBoth Tribunes:\\nBeseech you, leave the leisure and his face\\nBeing plainted.\\n\\nSICINIUS:\\nElended, it is not to be thine, who being\\nslave!\\nWhy do we prove? Somertia and your borishmen!\\n\\nTYBALT:\\nAy, tell the verity of speech.\\n\\nSecond Keeper:\\nWhich I would seek up, you are now,\\nSuppose the state and wet or seems unwiel:\\nWe'll follow'd the tewn the thield that I may well\\nFor hath our general wounded.\\n\\nVIRGILIA:\\nNo, in good time: he moveth not a criem,\\nToo great order the villain or blows hath a deliver'd him,\\nAnd let him speak their hands with grief frees!\\nWelcome, my lords, we will fetch\\nFrom Clifford and some league in storn wedding death!\\nSay, that she stoutly, he is counterfeit of much\\nsay he might visit her.\\n\\nPAULINA:\\nThere \"\n",
            " b\"ROMEO:\\nSo then, among the lord's enemies\\nOr honour Laimendoment.\\n\\nBIANCA:\\nCall them, a word, dear:\\nThe blablehs full delight, and lapsy residness\\nUpon his dolfice buried in the vestern, our people;\\nWhich ensues yourself desire in some chasting,\\nThat ever shall become to walk and take\\nMine eyes and entertain at me. And therefore were\\nGood, to retress thence, thou hast sworn it should be\\nforth no thanking-on. Away with't! What was it well.\\nI know you deliver.\\n\\nMIRANDA:\\nI'll after a grown ton, break yiuld\\nI live so fair, both his other bears,\\nThat come to make the wreck; he must not take\\nUpon remain and each beauty-swicks,\\nWhen he makes wounds upon thy victory,\\nThat my grieves dare, in despite of all.\\n\\nNORTHUMBELLAND:\\nBut shewell the end of thy comfort? still them?\\n\\nLADY CAPULET:\\nShall I be not so;\\nAlack the people that is deceived;\\nAnd when he so hothing ill the palace gates\\nThe princes fall'n upon a sed and all;\\nFor Tybalt, the next degree is well using me,\\nUnmeaten to your grace hath here wi\"\n",
            " b\"ROMEO:\\nTybalt, yet right before I stain too little,\\nThe moon my graciously shall die.\\n\\nISABELLA:\\nMy brother lads: Come, you will not stay to bear\\nA kneel'd before a briefel of love to me.\\n\\nGLOUCESTER:\\nBut as I hear me, my gracious lord, my father's house\\nknowing it begins to deny you; yea, my liege,\\nMyself wish'd and not vengeance place.\\nBut if the tumb at all eyes as he frames,\\nOr else you living like revolting\\nThrone invance, which if they beat me?\\n\\nBLUTUS:\\nTherefore, in a creature is a duerad hands;\\nHe silgnts make fearful sbathel's corse,\\nTill we may--that good morrows in his time to be\\nEXford. First, hark you, for as\\nAt arm! gass life met one:\\nLet me entreat you: let a great soldier.\\nNay, come, they say, you mirth, at leave upon.\\nWelcome, Oxford, think'stage! Open the sacred hands\\nMyself to save the bright-fleetice, rife,\\nEven then to love, my Lord Northumberland:\\nBut if need by this leave of sorrow day to-morrow,\\nSo much in many points on his sittle breath\\nAs he correctsy to and teerin\"], shape=(5,), dtype=string) \n",
            "\n",
            "________________________________________________________________________________\n",
            "\n",
            "Run time: 3.3328328132629395\n"
          ]
        }
      ]
    },
    {
      "cell_type": "markdown",
      "source": [
        "ekspor model generator"
      ],
      "metadata": {
        "id": "dHv4aoVd7Bqe"
      }
    },
    {
      "cell_type": "code",
      "source": [
        "tf.saved_model.save(one_step_model, 'one_step')\n",
        "one_step_reloaded = tf.saved_model.load('one_step')"
      ],
      "metadata": {
        "colab": {
          "base_uri": "https://localhost:8080/"
        },
        "id": "W_DjjLSV7Aiv",
        "outputId": "0073485d-b190-44a0-b50a-0bed5cd693ae"
      },
      "execution_count": null,
      "outputs": [
        {
          "output_type": "stream",
          "name": "stderr",
          "text": [
            "WARNING:tensorflow:Skipping full serialization of Keras layer <__main__.OneStep object at 0x796625114c70>, because it is not built.\n",
            "WARNING:tensorflow:Model's `__init__()` arguments contain non-serializable objects. Please implement a `get_config()` method in the subclassed Model for proper saving and loading. Defaulting to empty config.\n",
            "WARNING:tensorflow:Model's `__init__()` arguments contain non-serializable objects. Please implement a `get_config()` method in the subclassed Model for proper saving and loading. Defaulting to empty config.\n"
          ]
        }
      ]
    },
    {
      "cell_type": "code",
      "source": [
        "states = None\n",
        "next_char = tf.constant(['ROMEO:'])\n",
        "result = [next_char]\n",
        "\n",
        "for n in range(100):\n",
        "  next_char, states = one_step_reloaded.generate_one_step(next_char, states=states)\n",
        "  result.append(next_char)\n",
        "\n",
        "print(tf.strings.join(result)[0].numpy().decode(\"utf-8\"))"
      ],
      "metadata": {
        "colab": {
          "base_uri": "https://localhost:8080/"
        },
        "id": "LQrwGvn87FbW",
        "outputId": "b36ec2fd-36de-452a-d97f-c70f98e8a051"
      },
      "execution_count": null,
      "outputs": [
        {
          "output_type": "stream",
          "name": "stdout",
          "text": [
            "ROMEO:\n",
            "So long as Davouried it would pluck thee one\n",
            "That boar it shrield and fear o' the same, or let us s\n"
          ]
        }
      ]
    },
    {
      "cell_type": "markdown",
      "source": [
        "TUGAS PRAKTIKUM"
      ],
      "metadata": {
        "id": "SC4C-kEsTLfb"
      }
    },
    {
      "cell_type": "code",
      "source": [
        "class CustomTraining(MyModel):\n",
        "  @tf.function\n",
        "  def train_step(self, inputs):\n",
        "    inputs, labels = inputs\n",
        "    with tf.GradientTape() as tape:\n",
        "      predictions = self(inputs, training=True)\n",
        "      loss = self.loss(labels, predictions)\n",
        "      grads = tape.gradient(loss, model.trainable_variables)\n",
        "      self.optimizer.apply_gradients(zip(grads, model.trainable_variables))\n",
        "\n",
        "    return {'loss': loss}"
      ],
      "metadata": {
        "id": "cWeJwp5w1lKW"
      },
      "execution_count": null,
      "outputs": []
    },
    {
      "cell_type": "code",
      "source": [
        "model = CustomTraining(\n",
        "    vocab_size=len(ids_from_chars.get_vocabulary()),\n",
        "    embedding_dim=embedding_dim,\n",
        "    rnn_units=rnn_units)"
      ],
      "metadata": {
        "id": "K5B1v002_dBB"
      },
      "execution_count": null,
      "outputs": []
    },
    {
      "cell_type": "code",
      "source": [
        "model.compile(optimizer = tf.keras.optimizers.Adam(),\n",
        "              loss=tf.keras.losses.SparseCategoricalCrossentropy(from_logits=True))"
      ],
      "metadata": {
        "id": "W4pkn5KB_n6h"
      },
      "execution_count": null,
      "outputs": []
    },
    {
      "cell_type": "code",
      "source": [
        "model.fit(dataset, epochs=1)"
      ],
      "metadata": {
        "colab": {
          "base_uri": "https://localhost:8080/"
        },
        "id": "LwbbqSp-_s2g",
        "outputId": "ed76f325-8e16-453b-c210-83d6f9950bdf"
      },
      "execution_count": null,
      "outputs": [
        {
          "output_type": "stream",
          "name": "stdout",
          "text": [
            "172/172 [==============================] - 18s 52ms/step - loss: 2.7042\n"
          ]
        },
        {
          "output_type": "execute_result",
          "data": {
            "text/plain": [
              "<keras.src.callbacks.History at 0x796589e5fc10>"
            ]
          },
          "metadata": {},
          "execution_count": 76
        }
      ]
    },
    {
      "cell_type": "code",
      "source": [
        "EPOCHS = 10\n",
        "\n",
        "mean = tf.metrics.Mean()\n",
        "\n",
        "for epoch in range(EPOCHS):\n",
        "  start = time.time()\n",
        "\n",
        "  mean.reset_states()\n",
        "  for (batch_n, (inp, target)) in enumerate(dataset):\n",
        "    logs = model.train_step([inp, target])\n",
        "    mean.update_state(logs['loss'])\n",
        "\n",
        "    if batch_n % 50 == 0:\n",
        "      template = f\"Epoch {epoch+1} Batch {batch_n} Loss {logs['loss']:.4f}\"\n",
        "      print(template)\n",
        "\n",
        "      # saving (checkpoint) the model every 5 epochs\n",
        "      if (epoch + 1) % 5 == 0:\n",
        "        model.save_weights(checkpoint_prefix.format(epoch=epoch))\n",
        "\n",
        "\n",
        "        print()\n",
        "        print(f'Epoch {epoch+1} Loss: {mean.result().numpy():.4f}')\n",
        "        print(f'Time taken for 1 epoch {time.time() - start:.2f} sec')\n",
        "        print(\"_\"*80)\n",
        "\n",
        "model.save_weights(checkpoint_prefix.format(epoch=epoch))"
      ],
      "metadata": {
        "colab": {
          "base_uri": "https://localhost:8080/"
        },
        "id": "ZMiHlijc_soz",
        "outputId": "e7e55687-c1f6-4e7c-ad76-762fe2621a81"
      },
      "execution_count": null,
      "outputs": [
        {
          "output_type": "stream",
          "name": "stdout",
          "text": [
            "Epoch 1 Batch 0 Loss 2.1762\n",
            "Epoch 1 Batch 50 Loss 2.0232\n",
            "Epoch 1 Batch 100 Loss 1.9017\n",
            "Epoch 1 Batch 150 Loss 1.8061\n",
            "Epoch 2 Batch 0 Loss 1.7894\n",
            "Epoch 2 Batch 50 Loss 1.7170\n",
            "Epoch 2 Batch 100 Loss 1.6670\n",
            "Epoch 2 Batch 150 Loss 1.6272\n",
            "Epoch 3 Batch 0 Loss 1.6324\n",
            "Epoch 3 Batch 50 Loss 1.5366\n",
            "Epoch 3 Batch 100 Loss 1.4929\n",
            "Epoch 3 Batch 150 Loss 1.5541\n",
            "Epoch 4 Batch 0 Loss 1.4513\n",
            "Epoch 4 Batch 50 Loss 1.4278\n",
            "Epoch 4 Batch 100 Loss 1.4344\n",
            "Epoch 4 Batch 150 Loss 1.3865\n",
            "Epoch 5 Batch 0 Loss 1.3938\n",
            "\n",
            "Epoch 5 Loss: 1.3938\n",
            "Time taken for 1 epoch 2.59 sec\n",
            "________________________________________________________________________________\n",
            "Epoch 5 Batch 50 Loss 1.3895\n",
            "\n",
            "Epoch 5 Loss: 1.3870\n",
            "Time taken for 1 epoch 5.29 sec\n",
            "________________________________________________________________________________\n",
            "Epoch 5 Batch 100 Loss 1.3368\n",
            "\n",
            "Epoch 5 Loss: 1.3835\n",
            "Time taken for 1 epoch 7.97 sec\n",
            "________________________________________________________________________________\n",
            "Epoch 5 Batch 150 Loss 1.3704\n",
            "\n",
            "Epoch 5 Loss: 1.3786\n",
            "Time taken for 1 epoch 10.62 sec\n",
            "________________________________________________________________________________\n",
            "Epoch 6 Batch 0 Loss 1.3130\n",
            "Epoch 6 Batch 50 Loss 1.2884\n",
            "Epoch 6 Batch 100 Loss 1.3575\n",
            "Epoch 6 Batch 150 Loss 1.3181\n",
            "Epoch 7 Batch 0 Loss 1.2887\n",
            "Epoch 7 Batch 50 Loss 1.2683\n",
            "Epoch 7 Batch 100 Loss 1.2266\n",
            "Epoch 7 Batch 150 Loss 1.2879\n",
            "Epoch 8 Batch 0 Loss 1.2218\n",
            "Epoch 8 Batch 50 Loss 1.2464\n",
            "Epoch 8 Batch 100 Loss 1.2186\n",
            "Epoch 8 Batch 150 Loss 1.2731\n",
            "Epoch 9 Batch 0 Loss 1.1523\n",
            "Epoch 9 Batch 50 Loss 1.2344\n",
            "Epoch 9 Batch 100 Loss 1.2201\n",
            "Epoch 9 Batch 150 Loss 1.2188\n",
            "Epoch 10 Batch 0 Loss 1.1187\n",
            "\n",
            "Epoch 10 Loss: 1.1187\n",
            "Time taken for 1 epoch 1.84 sec\n",
            "________________________________________________________________________________\n",
            "Epoch 10 Batch 50 Loss 1.1374\n",
            "\n",
            "Epoch 10 Loss: 1.1429\n",
            "Time taken for 1 epoch 4.61 sec\n",
            "________________________________________________________________________________\n",
            "Epoch 10 Batch 100 Loss 1.1594\n",
            "\n",
            "Epoch 10 Loss: 1.1501\n",
            "Time taken for 1 epoch 7.35 sec\n",
            "________________________________________________________________________________\n",
            "Epoch 10 Batch 150 Loss 1.2041\n",
            "\n",
            "Epoch 10 Loss: 1.1556\n",
            "Time taken for 1 epoch 10.07 sec\n",
            "________________________________________________________________________________\n"
          ]
        }
      ]
    }
  ]
}